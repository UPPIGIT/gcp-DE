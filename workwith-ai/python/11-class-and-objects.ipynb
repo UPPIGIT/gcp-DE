{
 "cells": [
  {
   "cell_type": "code",
   "execution_count": 3,
   "metadata": {},
   "outputs": [
    {
     "name": "stdout",
     "output_type": "stream",
     "text": [
      "Car : Toyoto corolla, Year : 2020\n"
     ]
    }
   ],
   "source": [
    "class Car:\n",
    "    def __init__(self, brand, model, year):\n",
    "        self.brand=brand\n",
    "        self.model=model\n",
    "        self.year=year\n",
    "    \n",
    "    def display_info(self):\n",
    "        print(f\"Car : {self.brand} {self.model}, Year : {self.year}\")\n",
    "\n",
    "\n",
    "car1 =Car(\"Toyoto\",\"corolla\", 2020)\n",
    "car1.display_info()    \n"
   ]
  },
  {
   "cell_type": "code",
   "execution_count": 4,
   "metadata": {},
   "outputs": [
    {
     "name": "stdout",
     "output_type": "stream",
     "text": [
      "Car : Honda Civic, Year : 2022\n",
      "Car : Ford Mustang, Year : 2021\n"
     ]
    }
   ],
   "source": [
    "car2 = Car(\"Honda\", \"Civic\", 2022)\n",
    "car3 = Car(\"Ford\", \"Mustang\", 2021)\n",
    "\n",
    "car2.display_info()  # Output: Car: Honda Civic, Year: 2022\n",
    "car3.display_info()  # Output: Car: Ford Mustang, Year: 2021\n"
   ]
  },
  {
   "cell_type": "code",
   "execution_count": 9,
   "metadata": {},
   "outputs": [
    {
     "name": "stdout",
     "output_type": "stream",
     "text": [
      "Rex is barking !\n",
      "Bella is barking !\n",
      "Labrador\n",
      "mixed breed\n"
     ]
    }
   ],
   "source": [
    "class Dog:\n",
    "    def __init__(self, name , breed='mixed breed') :\n",
    "        self.name=name\n",
    "        self.breed = breed\n",
    "\n",
    "    def bark(self):\n",
    "        print(f\"{self.name} is barking !\")\n",
    "\n",
    "dog1=Dog('Rex', 'Labrador')\n",
    "dog2=Dog('Bella')\n",
    "\n",
    "dog1.bark()  #\n",
    "dog2.bark()\n",
    "\n",
    "print(dog1.breed)\n",
    "print(dog2.breed)"
   ]
  },
  {
   "cell_type": "code",
   "execution_count": 11,
   "metadata": {},
   "outputs": [
    {
     "name": "stdout",
     "output_type": "stream",
     "text": [
      "20\n",
      "26\n"
     ]
    }
   ],
   "source": [
    "class Person:\n",
    "    def __init__(self, name,age): \n",
    "        self.name = name\n",
    "        self.age = age\n",
    "    \n",
    "person1= Person('John', '20')\n",
    "print(person1.age)\n",
    "\n",
    "person1.age=26\n",
    "print(person1.age)\n",
    "\n"
   ]
  },
  {
   "cell_type": "code",
   "execution_count": 15,
   "metadata": {},
   "outputs": [
    {
     "name": "stdout",
     "output_type": "stream",
     "text": [
      "Deposited amount is : 500 and new balance is 1500\n",
      "John\n"
     ]
    },
    {
     "ename": "AttributeError",
     "evalue": "'BankAccount' object has no attribute '__balance'",
     "output_type": "error",
     "traceback": [
      "\u001b[1;31m---------------------------------------------------------------------------\u001b[0m",
      "\u001b[1;31mAttributeError\u001b[0m                            Traceback (most recent call last)",
      "Cell \u001b[1;32mIn[15], line 17\u001b[0m\n\u001b[0;32m     14\u001b[0m account\u001b[38;5;241m.\u001b[39mdeposit(\u001b[38;5;241m500\u001b[39m)\n\u001b[0;32m     16\u001b[0m \u001b[38;5;28mprint\u001b[39m(account\u001b[38;5;241m.\u001b[39maccount_holder)\n\u001b[1;32m---> 17\u001b[0m \u001b[38;5;28mprint\u001b[39m(\u001b[43maccount\u001b[49m\u001b[38;5;241;43m.\u001b[39;49m\u001b[43m__balance\u001b[49m)\n",
      "\u001b[1;31mAttributeError\u001b[0m: 'BankAccount' object has no attribute '__balance'"
     ]
    }
   ],
   "source": [
    "class BankAccount:\n",
    "    def __init__(self, account_holder, balance) :\n",
    "        self.account_holder =  account_holder\n",
    "        self.__balance = balance #private attribute\n",
    "    \n",
    "    def deposit(self, amount):\n",
    "        self.__balance +=amount\n",
    "        print(f\"Deposited amount is : {amount} and new balance is {self.__balance}\")\n",
    "    \n",
    "    def __caluclateIntrest(self):\n",
    "        return self.__balance*0.5\n",
    "    \n",
    "account= BankAccount('John', 1000)\n",
    "account.deposit(500)\n",
    "\n",
    "print(account.account_holder)\n",
    "print(account.__balance)\n",
    "    \n"
   ]
  },
  {
   "cell_type": "code",
   "execution_count": 16,
   "metadata": {},
   "outputs": [
    {
     "name": "stdout",
     "output_type": "stream",
     "text": [
      "google\n",
      "google\n",
      "amazon\n",
      "amazon\n"
     ]
    }
   ],
   "source": [
    "class Employee:\n",
    "\n",
    "    company = \"google\"\n",
    "\n",
    "    def __init__(self, name , age) :\n",
    "        self.name = name\n",
    "        self.age = age\n",
    "\n",
    "    @classmethod\n",
    "    def change_company(cls,new_company):\n",
    "        cls.company = new_company\n",
    "    \n",
    "emp1= Employee(\"upender\", 36)\n",
    "emp2= Employee('jhon',42)\n",
    "\n",
    "print(emp1.company)\n",
    "print(emp2.company)\n",
    "\n",
    "\n",
    "Employee.change_company(\"amazon\")\n",
    "\n",
    "print(emp1.company)\n",
    "print(emp2.company)\n",
    "\n",
    "\n",
    "\n",
    "\n"
   ]
  },
  {
   "cell_type": "code",
   "execution_count": 17,
   "metadata": {},
   "outputs": [
    {
     "name": "stdout",
     "output_type": "stream",
     "text": [
      "Addition result: 30\n",
      "Original pi: 3.14159\n",
      "New pi: 3.14\n",
      "Is -1 positive? False\n",
      "Is 5 positive? True\n",
      "Is -10 positive? False\n",
      "Is 20 positive? True\n"
     ]
    }
   ],
   "source": [
    "# Example of class methods and static methods\n",
    "class Calculator:\n",
    "    # Class variable\n",
    "    pi = 3.14159\n",
    "    \n",
    "    def __init__(self, x, y):\n",
    "        self.x = x\n",
    "        self.y = y\n",
    "    \n",
    "    # Instance method - needs self\n",
    "    def add(self):\n",
    "        return self.x + self.y\n",
    "    \n",
    "    # Class method - can access/modify class state\n",
    "    @classmethod\n",
    "    def change_pi(cls, new_pi):\n",
    "        cls.pi = new_pi\n",
    "        return cls.pi\n",
    "    \n",
    "    # Static method - independent utility function\n",
    "    @staticmethod\n",
    "    def is_positive(num):\n",
    "        return num > 0\n",
    "\n",
    "# Using instance method\n",
    "calc = Calculator(10, 20)\n",
    "print(f\"Addition result: {calc.add()}\")\n",
    "\n",
    "# Using class method\n",
    "print(f\"Original pi: {Calculator.pi}\")\n",
    "Calculator.change_pi(3.14)\n",
    "print(f\"New pi: {Calculator.pi}\")\n",
    "\n",
    "# Using static method\n",
    "numbers = [-1, 5, -10, 20]\n",
    "for num in numbers:\n",
    "    print(f\"Is {num} positive? {Calculator.is_positive(num)}\")\n"
   ]
  },
  {
   "cell_type": "code",
   "execution_count": 20,
   "metadata": {},
   "outputs": [
    {
     "name": "stdout",
     "output_type": "stream",
     "text": [
      "Name Alice and salary: 90000 \n",
      "Name Alice and salary: 90000  , Team Size is : 10\n"
     ]
    }
   ],
   "source": [
    "class Employee :\n",
    "    def __init__(self, name , salary) :\n",
    "        self.name = name\n",
    "        self.salary =salary\n",
    "    \n",
    "    def get_details(self):\n",
    "        return f\"Name {self.name} and salary: {self.salary} \"\n",
    "\n",
    "\n",
    "class Manager(Employee):\n",
    "    def __init__(self, name, salary , team_size):\n",
    "        super().__init__(name, salary)\n",
    "        self.team_size = team_size\n",
    "\n",
    "    def get_manager_details(self):\n",
    "        return f\"{self.get_details()} , Team Size is : {self.team_size}\"\n",
    "    \n",
    "\n",
    "\n",
    "\n",
    "m = Manager(\"Alice\", 90000 , 10)\n",
    "\n",
    "print(m.get_details())\n",
    "print(m.get_manager_details())"
   ]
  },
  {
   "cell_type": "code",
   "execution_count": 23,
   "metadata": {},
   "outputs": [
    {
     "name": "stdout",
     "output_type": "stream",
     "text": [
      "Name upender  Grade A Sport Football\n"
     ]
    }
   ],
   "source": [
    "class Acadamic:\n",
    "\n",
    "    def __init__(self, grade) :\n",
    "        self.grade = grade\n",
    "    \n",
    "    def get_acadamic_info(self) :\n",
    "        return f\"Grade {self.grade}\"\n",
    "\n",
    "class Sport :\n",
    "     def __init__(self, sport) :\n",
    "         self.sport = sport\n",
    "\n",
    "     def get_sport_info(self) :\n",
    "        return f\"Sport {self.sport}\"\n",
    "\n",
    "class Student(Acadamic, Sport) :\n",
    "    def __init__(self, name , grade , sport):\n",
    "        Acadamic.__init__(self,grade)\n",
    "        Sport.__init__(self,sport)\n",
    "        self.name = name\n",
    "\n",
    "    def student_info(self):\n",
    "        return f\"Name {self.name}  {self.get_acadamic_info()} {self.get_sport_info()}\"\n",
    "    \n",
    "\n",
    "s = Student(\"upender\", \"A\" , \"Football\")\n",
    "\n",
    "print(s.student_info())\n",
    "        \n"
   ]
  },
  {
   "cell_type": "code",
   "execution_count": 24,
   "metadata": {},
   "outputs": [
    {
     "name": "stdout",
     "output_type": "stream",
     "text": [
      "parent1 show\n"
     ]
    }
   ],
   "source": [
    "class Parent1 :\n",
    "    def show(self):\n",
    "        return \"parent1 show\"\n",
    "\n",
    "class Parent2:\n",
    "    def show(self):\n",
    "        return \"parent2 show\"\n",
    "\n",
    "class Child(Parent1, Parent2):\n",
    "    pass\n",
    "\n",
    "c = Child()\n",
    "print(c.show())"
   ]
  },
  {
   "cell_type": "code",
   "execution_count": 25,
   "metadata": {},
   "outputs": [
    {
     "name": "stdout",
     "output_type": "stream",
     "text": [
      "wolf ... wolf !\n",
      "Meow ... Meow..!\n"
     ]
    }
   ],
   "source": [
    "class Animal :\n",
    "    def speak(self):\n",
    "        return \"Animal makes sound\"\n",
    "\n",
    "class Dog(Animal):\n",
    "    def speak(self):\n",
    "        return \"wolf ... wolf !\"\n",
    "\n",
    "class Cat(Animal):\n",
    "    def speak(self):\n",
    "        return 'Meow ... Meow..!'\n",
    "\n",
    "def MakeSound(animal):\n",
    "    print(animal.speak())\n",
    "\n",
    "dog = Dog()\n",
    "cat= Cat()\n",
    "\n",
    "MakeSound(dog)\n",
    "MakeSound(cat)"
   ]
  },
  {
   "cell_type": "code",
   "execution_count": 27,
   "metadata": {},
   "outputs": [
    {
     "data": {
      "text/plain": [
       "'abcefg'"
      ]
     },
     "execution_count": 27,
     "metadata": {},
     "output_type": "execute_result"
    }
   ],
   "source": [
    "def add(x:int, y:int) -> int:\n",
    "    return x+y\n",
    "\n",
    "add(10,100)\n",
    "\n",
    "add('abc','efg')"
   ]
  },
  {
   "cell_type": "code",
   "execution_count": 28,
   "metadata": {},
   "outputs": [
    {
     "name": "stdout",
     "output_type": "stream",
     "text": [
      "123456\n",
      "1000\n",
      "Deposited $500. New balance: $1500\n",
      "Insufficient funds!\n"
     ]
    }
   ],
   "source": [
    "class BankAccount:\n",
    "    def __init__(self, account_number, balance):\n",
    "        self.account_number = account_number  # Public attribute\n",
    "        self.__balance = balance  # Private attribute (Encapsulation)\n",
    "\n",
    "    def deposit(self, amount):\n",
    "        \"\"\"Public method to deposit money\"\"\"\n",
    "        self.__balance += amount\n",
    "        print(f\"Deposited ${amount}. New balance: ${self.__balance}\")\n",
    "\n",
    "    def withdraw(self, amount):\n",
    "        \"\"\"Public method to withdraw money\"\"\"\n",
    "        if amount <= self.__balance:\n",
    "            self.__balance -= amount\n",
    "            print(f\"Withdrew ${amount}. Remaining balance: ${self.__balance}\")\n",
    "        else:\n",
    "            print(\"Insufficient funds!\")\n",
    "\n",
    "    def get_balance(self):\n",
    "        \"\"\"Public method to access private balance\"\"\"\n",
    "        return self.__balance\n",
    "\n",
    "# Creating an object\n",
    "account = BankAccount(\"123456\", 1000)\n",
    "\n",
    "# Accessing public attribute\n",
    "print(account.account_number)  # Output: 123456\n",
    "\n",
    "# Trying to access private attribute directly (This will fail)\n",
    "# print(account.__balance)  # ❌ AttributeError\n",
    "\n",
    "# Accessing private data through a public method\n",
    "print(account.get_balance())  # Output: 1000\n",
    "\n",
    "account.deposit(500)  # Output: Deposited $500. New balance: $1500\n",
    "account.withdraw(2000)  # Output: Insufficient funds!\n"
   ]
  },
  {
   "cell_type": "code",
   "execution_count": 32,
   "metadata": {},
   "outputs": [
    {
     "name": "stdout",
     "output_type": "stream",
     "text": [
      "5000\n",
      "Salary updated to $7000\n",
      "Invalid salary!\n"
     ]
    }
   ],
   "source": [
    "class Employee:\n",
    "    def __init__(self, name, salary):\n",
    "        self.name = name\n",
    "        self.__salary = salary  # Private attribute\n",
    "\n",
    "    def get_salary(self):  # Getter\n",
    "        \"\"\"Public method to get salary\"\"\"\n",
    "        return self.__salary\n",
    "\n",
    "    def set_salary(self, new_salary):  # Setter\n",
    "        \"\"\"Public method to set salary with validation\"\"\"\n",
    "        if new_salary > 0:\n",
    "            self.__salary = new_salary\n",
    "            print(f\"Salary updated to ${new_salary}\")\n",
    "        else:\n",
    "            print(\"Invalid salary!\")\n",
    "\n",
    "# Creating an object\n",
    "emp = Employee(\"John\", 5000)\n",
    "\n",
    "# Accessing private attribute directly (Not allowed)\n",
    "# print(emp.__salary)  # ❌ AttributeError\n",
    "\n",
    "# Accessing private attribute using getter\n",
    "print(emp.get_salary())  # Output: 5000\n",
    "\n",
    "# Updating private attribute using setter\n",
    "emp.set_salary(7000)  # Output: Salary updated to $7000\n",
    "\n",
    "# Trying to set an invalid salary\n",
    "emp.set_salary(-2000)  # Output: Invalid salary!\n"
   ]
  },
  {
   "cell_type": "code",
   "execution_count": null,
   "metadata": {},
   "outputs": [],
   "source": []
  },
  {
   "cell_type": "code",
   "execution_count": 33,
   "metadata": {},
   "outputs": [
    {
     "name": "stdout",
     "output_type": "stream",
     "text": [
      "Woof! Woof!\n",
      "Meow!\n"
     ]
    }
   ],
   "source": [
    "from abc import ABC, abstractmethod\n",
    "\n",
    "# Abstract Base Class\n",
    "class Animal(ABC):  \n",
    "    @abstractmethod\n",
    "    def make_sound(self):\n",
    "        \"\"\"Abstract method that must be implemented by subclasses\"\"\"\n",
    "        pass  # No implementation here\n",
    "\n",
    "# Subclass inheriting from Animal\n",
    "class Dog(Animal):\n",
    "    def make_sound(self):\n",
    "        return \"Woof! Woof!\"\n",
    "\n",
    "class Cat(Animal):\n",
    "    def make_sound(self):\n",
    "        return \"Meow!\"\n",
    "\n",
    "# dog = Animal()  # ❌ ERROR! Cannot instantiate an abstract class\n",
    "dog = Dog()  # ✅ Allowed\n",
    "cat = Cat()  # ✅ Allowed\n",
    "\n",
    "print(dog.make_sound())  # Output: Woof! Woof!\n",
    "print(cat.make_sound())  # Output: Meow!\n"
   ]
  },
  {
   "cell_type": "code",
   "execution_count": 34,
   "metadata": {},
   "outputs": [
    {
     "name": "stdout",
     "output_type": "stream",
     "text": [
      "Deposited $500. New balance: $1500\n",
      "Insufficient funds!\n",
      "Checking Account - Withdrew $3000. Remaining balance: $-1000\n"
     ]
    }
   ],
   "source": [
    "from abc import ABC, abstractmethod\n",
    "\n",
    "# Abstract Base Class\n",
    "class BankAccount(ABC):\n",
    "\n",
    "    def __init__(self, balance: float):\n",
    "        self.balance = balance  # Common property\n",
    "\n",
    "    @abstractmethod\n",
    "    def deposit(self, amount: float):\n",
    "        \"\"\"Abstract method for depositing money\"\"\"\n",
    "        pass\n",
    "\n",
    "    @abstractmethod\n",
    "    def withdraw(self, amount: float):\n",
    "        \"\"\"Abstract method for withdrawing money\"\"\"\n",
    "        pass\n",
    "\n",
    "# Concrete Class: Savings Account\n",
    "class SavingsAccount(BankAccount):\n",
    "    def deposit(self, amount: float):\n",
    "        self.balance += amount\n",
    "        print(f\"Deposited ${amount}. New balance: ${self.balance}\")\n",
    "\n",
    "    def withdraw(self, amount: float):\n",
    "        if amount <= self.balance:\n",
    "            self.balance -= amount\n",
    "            print(f\"Withdrew ${amount}. Remaining balance: ${self.balance}\")\n",
    "        else:\n",
    "            print(\"Insufficient funds!\")\n",
    "\n",
    "# Concrete Class: Checking Account\n",
    "class CheckingAccount(BankAccount):\n",
    "    def deposit(self, amount: float):\n",
    "        self.balance += amount\n",
    "        print(f\"Checking Account - Deposited ${amount}. New balance: ${self.balance}\")\n",
    "\n",
    "    def withdraw(self, amount: float):\n",
    "        self.balance -= amount  # No overdraft check\n",
    "        print(f\"Checking Account - Withdrew ${amount}. Remaining balance: ${self.balance}\")\n",
    "\n",
    "# savings = BankAccount(1000)  # ❌ ERROR! Cannot instantiate an abstract class\n",
    "savings = SavingsAccount(1000)  # ✅ Allowed\n",
    "savings.deposit(500)  # Output: Deposited $500. New balance: $1500\n",
    "savings.withdraw(2000)  # Output: Insufficient funds!\n",
    "\n",
    "checking = CheckingAccount(2000)  # ✅ Allowed\n",
    "checking.withdraw(3000)  # Output: Checking Account - Withdrew $3000. Remaining balance: -$1000\n"
   ]
  },
  {
   "cell_type": "code",
   "execution_count": 35,
   "metadata": {},
   "outputs": [
    {
     "data": {
      "text/plain": [
       "['ABC',\n",
       " 'Acadamic',\n",
       " 'Animal',\n",
       " 'BankAccount',\n",
       " 'Calculator',\n",
       " 'Car',\n",
       " 'Cat',\n",
       " 'CheckingAccount',\n",
       " 'Child',\n",
       " 'Dog',\n",
       " 'Employee',\n",
       " 'In',\n",
       " 'MakeSound',\n",
       " 'Manager',\n",
       " 'Out',\n",
       " 'Parent1',\n",
       " 'Parent2',\n",
       " 'Person',\n",
       " 'SavingsAccount',\n",
       " 'Sport',\n",
       " 'Student',\n",
       " '_',\n",
       " '_26',\n",
       " '_27',\n",
       " '__',\n",
       " '___',\n",
       " '__builtin__',\n",
       " '__builtins__',\n",
       " '__doc__',\n",
       " '__loader__',\n",
       " '__name__',\n",
       " '__package__',\n",
       " '__spec__',\n",
       " '__vsc_ipynb_file__',\n",
       " '_dh',\n",
       " '_i',\n",
       " '_i1',\n",
       " '_i10',\n",
       " '_i11',\n",
       " '_i12',\n",
       " '_i13',\n",
       " '_i14',\n",
       " '_i15',\n",
       " '_i16',\n",
       " '_i17',\n",
       " '_i18',\n",
       " '_i19',\n",
       " '_i2',\n",
       " '_i20',\n",
       " '_i21',\n",
       " '_i22',\n",
       " '_i23',\n",
       " '_i24',\n",
       " '_i25',\n",
       " '_i26',\n",
       " '_i27',\n",
       " '_i28',\n",
       " '_i29',\n",
       " '_i3',\n",
       " '_i30',\n",
       " '_i31',\n",
       " '_i32',\n",
       " '_i33',\n",
       " '_i34',\n",
       " '_i35',\n",
       " '_i4',\n",
       " '_i5',\n",
       " '_i6',\n",
       " '_i7',\n",
       " '_i8',\n",
       " '_i9',\n",
       " '_ih',\n",
       " '_ii',\n",
       " '_iii',\n",
       " '_oh',\n",
       " 'abstractmethod',\n",
       " 'account',\n",
       " 'add',\n",
       " 'c',\n",
       " 'calc',\n",
       " 'car1',\n",
       " 'car2',\n",
       " 'car3',\n",
       " 'cat',\n",
       " 'checking',\n",
       " 'dog',\n",
       " 'dog1',\n",
       " 'dog2',\n",
       " 'emp',\n",
       " 'emp1',\n",
       " 'emp2',\n",
       " 'exit',\n",
       " 'get_ipython',\n",
       " 'm',\n",
       " 'num',\n",
       " 'numbers',\n",
       " 'open',\n",
       " 'person1',\n",
       " 'quit',\n",
       " 's',\n",
       " 'savings']"
      ]
     },
     "execution_count": 35,
     "metadata": {},
     "output_type": "execute_result"
    }
   ],
   "source": [
    "dir()"
   ]
  },
  {
   "cell_type": "code",
   "execution_count": 36,
   "metadata": {},
   "outputs": [
    {
     "data": {
      "text/plain": [
       "['__add__',\n",
       " '__class__',\n",
       " '__contains__',\n",
       " '__delattr__',\n",
       " '__dir__',\n",
       " '__doc__',\n",
       " '__eq__',\n",
       " '__format__',\n",
       " '__ge__',\n",
       " '__getattribute__',\n",
       " '__getitem__',\n",
       " '__getnewargs__',\n",
       " '__getstate__',\n",
       " '__gt__',\n",
       " '__hash__',\n",
       " '__init__',\n",
       " '__init_subclass__',\n",
       " '__iter__',\n",
       " '__le__',\n",
       " '__len__',\n",
       " '__lt__',\n",
       " '__mod__',\n",
       " '__mul__',\n",
       " '__ne__',\n",
       " '__new__',\n",
       " '__reduce__',\n",
       " '__reduce_ex__',\n",
       " '__repr__',\n",
       " '__rmod__',\n",
       " '__rmul__',\n",
       " '__setattr__',\n",
       " '__sizeof__',\n",
       " '__str__',\n",
       " '__subclasshook__',\n",
       " 'capitalize',\n",
       " 'casefold',\n",
       " 'center',\n",
       " 'count',\n",
       " 'encode',\n",
       " 'endswith',\n",
       " 'expandtabs',\n",
       " 'find',\n",
       " 'format',\n",
       " 'format_map',\n",
       " 'index',\n",
       " 'isalnum',\n",
       " 'isalpha',\n",
       " 'isascii',\n",
       " 'isdecimal',\n",
       " 'isdigit',\n",
       " 'isidentifier',\n",
       " 'islower',\n",
       " 'isnumeric',\n",
       " 'isprintable',\n",
       " 'isspace',\n",
       " 'istitle',\n",
       " 'isupper',\n",
       " 'join',\n",
       " 'ljust',\n",
       " 'lower',\n",
       " 'lstrip',\n",
       " 'maketrans',\n",
       " 'partition',\n",
       " 'removeprefix',\n",
       " 'removesuffix',\n",
       " 'replace',\n",
       " 'rfind',\n",
       " 'rindex',\n",
       " 'rjust',\n",
       " 'rpartition',\n",
       " 'rsplit',\n",
       " 'rstrip',\n",
       " 'split',\n",
       " 'splitlines',\n",
       " 'startswith',\n",
       " 'strip',\n",
       " 'swapcase',\n",
       " 'title',\n",
       " 'translate',\n",
       " 'upper',\n",
       " 'zfill']"
      ]
     },
     "execution_count": 36,
     "metadata": {},
     "output_type": "execute_result"
    }
   ],
   "source": [
    "dir(str)"
   ]
  },
  {
   "cell_type": "code",
   "execution_count": 37,
   "metadata": {},
   "outputs": [
    {
     "data": {
      "text/plain": [
       "['__add__',\n",
       " '__class__',\n",
       " '__class_getitem__',\n",
       " '__contains__',\n",
       " '__delattr__',\n",
       " '__delitem__',\n",
       " '__dir__',\n",
       " '__doc__',\n",
       " '__eq__',\n",
       " '__format__',\n",
       " '__ge__',\n",
       " '__getattribute__',\n",
       " '__getitem__',\n",
       " '__getstate__',\n",
       " '__gt__',\n",
       " '__hash__',\n",
       " '__iadd__',\n",
       " '__imul__',\n",
       " '__init__',\n",
       " '__init_subclass__',\n",
       " '__iter__',\n",
       " '__le__',\n",
       " '__len__',\n",
       " '__lt__',\n",
       " '__mul__',\n",
       " '__ne__',\n",
       " '__new__',\n",
       " '__reduce__',\n",
       " '__reduce_ex__',\n",
       " '__repr__',\n",
       " '__reversed__',\n",
       " '__rmul__',\n",
       " '__setattr__',\n",
       " '__setitem__',\n",
       " '__sizeof__',\n",
       " '__str__',\n",
       " '__subclasshook__',\n",
       " 'append',\n",
       " 'clear',\n",
       " 'copy',\n",
       " 'count',\n",
       " 'extend',\n",
       " 'index',\n",
       " 'insert',\n",
       " 'pop',\n",
       " 'remove',\n",
       " 'reverse',\n",
       " 'sort']"
      ]
     },
     "execution_count": 37,
     "metadata": {},
     "output_type": "execute_result"
    }
   ],
   "source": [
    "dir(list)"
   ]
  },
  {
   "cell_type": "code",
   "execution_count": 38,
   "metadata": {},
   "outputs": [
    {
     "name": "stdout",
     "output_type": "stream",
     "text": [
      "Alice is created.\n",
      "Alice is deleted.\n"
     ]
    }
   ],
   "source": [
    "class Person:\n",
    "    def __init__(self, name, age):  # Constructor\n",
    "        self.name = name\n",
    "        self.age = age\n",
    "        print(f\"{self.name} is created.\")\n",
    "\n",
    "    def __del__(self):  # Destructor\n",
    "        print(f\"{self.name} is deleted.\")\n",
    "\n",
    "# Creating an object\n",
    "p1 = Person(\"Alice\", 30)\n",
    "\n",
    "# Deleting the object\n",
    "del p1\n"
   ]
  },
  {
   "cell_type": "code",
   "execution_count": 39,
   "metadata": {},
   "outputs": [
    {
     "name": "stdout",
     "output_type": "stream",
     "text": [
      "Tesla Model X\n",
      "Car('Tesla', 'Model X')\n"
     ]
    }
   ],
   "source": [
    "class Car:\n",
    "    def __init__(self, brand, model):\n",
    "        self.brand = brand\n",
    "        self.model = model\n",
    "\n",
    "    def __str__(self):  # User-friendly representation\n",
    "        return f\"{self.brand} {self.model}\"\n",
    "\n",
    "    def __repr__(self):  # Debugging representation\n",
    "        return f\"Car('{self.brand}', '{self.model}')\"\n",
    "\n",
    "car1 = Car(\"Tesla\", \"Model X\")\n",
    "\n",
    "print(str(car1))   # Calls __str__()\n",
    "print(repr(car1))  # Calls __repr__()\n"
   ]
  }
 ],
 "metadata": {
  "kernelspec": {
   "display_name": "myenv",
   "language": "python",
   "name": "python3"
  },
  "language_info": {
   "codemirror_mode": {
    "name": "ipython",
    "version": 3
   },
   "file_extension": ".py",
   "mimetype": "text/x-python",
   "name": "python",
   "nbconvert_exporter": "python",
   "pygments_lexer": "ipython3",
   "version": "3.13.1"
  }
 },
 "nbformat": 4,
 "nbformat_minor": 2
}

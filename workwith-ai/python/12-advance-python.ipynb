{
 "cells": [
  {
   "cell_type": "code",
   "execution_count": 1,
   "metadata": {},
   "outputs": [
    {
     "name": "stdout",
     "output_type": "stream",
     "text": [
      "10\n",
      "20\n",
      "30\n",
      "40\n"
     ]
    }
   ],
   "source": [
    "# Example: Using an iterator with a list\n",
    "my_list = [10, 20, 30, 40]\n",
    "\n",
    "# Get an iterator\n",
    "iter_obj = iter(my_list)\n",
    "\n",
    "print(next(iter_obj))  # Output: 10\n",
    "print(next(iter_obj))  # Output: 20\n",
    "print(next(iter_obj))  # Output: 30\n",
    "print(next(iter_obj))  # Output: 40\n",
    "\n",
    "# Calling next() again will raise StopIteration error\n"
   ]
  },
  {
   "cell_type": "code",
   "execution_count": 4,
   "metadata": {},
   "outputs": [
    {
     "name": "stdout",
     "output_type": "stream",
     "text": [
      "1\n",
      "2\n",
      "3\n",
      "4\n",
      "5\n"
     ]
    }
   ],
   "source": [
    "# Example: Custom iterator to generate numbers up to a given limit\n",
    "class Counter:\n",
    "    def __init__(self, limit):\n",
    "        self.limit = limit\n",
    "        self.count = 0\n",
    "\n",
    "    def __iter__(self):\n",
    "        return self  # The object itself is the iterator\n",
    "\n",
    "    def __next__(self):\n",
    "        if self.count < self.limit:\n",
    "            self.count += 1\n",
    "            return self.count\n",
    "        else:\n",
    "            raise StopIteration  # Stops iteration\n",
    "\n",
    "# Create an instance of Counter\n",
    "counter = Counter(5)\n",
    "\n",
    "# Using the iterator\n",
    "for num in counter:\n",
    "    print(num)  \n",
    "# Output: 1, 2, 3, 4, 5\n"
   ]
  },
  {
   "cell_type": "code",
   "execution_count": 5,
   "metadata": {},
   "outputs": [
    {
     "name": "stdout",
     "output_type": "stream",
     "text": [
      "6\n",
      "10\n",
      "7\n",
      "3\n",
      "4\n",
      "7\n",
      "9\n",
      "10\n",
      "8\n",
      "3\n",
      "4\n",
      "9\n",
      "1\n",
      "8\n",
      "1\n",
      "10\n",
      "6\n",
      "3\n",
      "3\n",
      "8\n",
      "1\n",
      "10\n",
      "3\n",
      "4\n"
     ]
    }
   ],
   "source": [
    "# Example: Reading a file line-by-line until an empty string is returned\n",
    "import random\n",
    "\n",
    "def random_numbers():\n",
    "    return random.randint(1, 10)\n",
    "\n",
    "for num in iter(random_numbers, 5):  # Stops when 5 is returned\n",
    "    print(num)\n"
   ]
  },
  {
   "cell_type": "code",
   "execution_count": 6,
   "metadata": {},
   "outputs": [
    {
     "name": "stdout",
     "output_type": "stream",
     "text": [
      "2\n",
      "4\n",
      "6\n",
      "8\n",
      "10\n"
     ]
    }
   ],
   "source": [
    "# Example: Infinite iterator generating even numbers\n",
    "class EvenNumbers:\n",
    "    def __init__(self):\n",
    "        self.num = 0\n",
    "\n",
    "    def __iter__(self):\n",
    "        return self\n",
    "\n",
    "    def __next__(self):\n",
    "        self.num += 2\n",
    "        return self.num\n",
    "\n",
    "even_iter = EvenNumbers()\n",
    "for _ in range(5):\n",
    "    print(next(even_iter))  \n",
    "# Output: 2, 4, 6, 8, 10\n"
   ]
  },
  {
   "cell_type": "code",
   "execution_count": 7,
   "metadata": {},
   "outputs": [
    {
     "name": "stdout",
     "output_type": "stream",
     "text": [
      "10\n",
      "12\n",
      "14\n",
      "16\n",
      "18\n",
      "red\n",
      "blue\n",
      "green\n",
      "red\n",
      "blue\n",
      "green\n",
      "['Hello', 'Hello', 'Hello']\n"
     ]
    }
   ],
   "source": [
    "import itertools\n",
    "\n",
    "# Infinite counter\n",
    "counter = itertools.count(10, 2)\n",
    "for _ in range(5):\n",
    "    print(next(counter))  # Output: 10, 12, 14, 16, 18\n",
    "\n",
    "# Cycle through a list\n",
    "colors = itertools.cycle(['red', 'blue', 'green'])\n",
    "for _ in range(6):\n",
    "    print(next(colors))  # Output: red, blue, green, red, blue, green\n",
    "\n",
    "# Repeat an element\n",
    "repeat_hello = itertools.repeat('Hello', 3)\n",
    "print(list(repeat_hello))  # Output: ['Hello', 'Hello', 'Hello']\n"
   ]
  }
 ],
 "metadata": {
  "kernelspec": {
   "display_name": "myenv",
   "language": "python",
   "name": "python3"
  },
  "language_info": {
   "codemirror_mode": {
    "name": "ipython",
    "version": 3
   },
   "file_extension": ".py",
   "mimetype": "text/x-python",
   "name": "python",
   "nbconvert_exporter": "python",
   "pygments_lexer": "ipython3",
   "version": "3.13.1"
  }
 },
 "nbformat": 4,
 "nbformat_minor": 2
}

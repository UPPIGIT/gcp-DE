{
 "cells": [
  {
   "cell_type": "markdown",
   "metadata": {},
   "source": [
    "### **File Operations in Python**\n",
    "Python provides built-in functions to perform file operations like reading, writing, and appending files. The `open()` function is used to open a file, and it provides different modes for handling files.\n",
    "\n",
    "---\n",
    "\n",
    "### **File Opening Modes**\n",
    "| Mode | Description |\n",
    "|------|------------|\n",
    "| `r`  | Read mode (default). Opens a file for reading. |\n",
    "| `w`  | Write mode. Creates a new file if it doesn't exist, overwrites if it does. |\n",
    "| `a`  | Append mode. Opens a file for writing, preserving existing content. |\n",
    "| `x`  | Exclusive creation mode. Fails if the file already exists. |\n",
    "| `r+` | Read and write mode. The file must exist. |\n",
    "| `w+` | Write and read mode. Overwrites the file. |\n",
    "| `a+` | Append and read mode. Writes at the end of the file. |\n",
    "\n",
    "---\n",
    "\n",
    "## **1. Writing to a File (`w` Mode)**\n",
    "This mode creates a file if it doesn’t exist and overwrites it if it does.\n",
    "\n",
    "```python\n",
    "with open(\"example.txt\", \"w\") as file:\n",
    "    file.write(\"Hello, this is a test file.\\n\")\n",
    "    file.write(\"Writing in Python is easy!\\n\")\n",
    "```\n",
    "📌 **Note:** The `with` statement ensures that the file is closed automatically.\n",
    "\n",
    "---\n",
    "\n",
    "## **2. Reading a File (`r` Mode)**\n",
    "```python\n",
    "with open(\"example.txt\", \"r\") as file:\n",
    "    content = file.read()\n",
    "    print(content)\n",
    "```\n",
    "---\n",
    "\n",
    "## **3. Appending to a File (`a` Mode)**\n",
    "This mode adds content to the existing file without overwriting it.\n",
    "\n",
    "```python\n",
    "with open(\"example.txt\", \"a\") as file:\n",
    "    file.write(\"Appending a new line to the file.\\n\")\n",
    "```\n",
    "\n",
    "---\n",
    "\n",
    "## **4. Reading Line by Line**\n",
    "```python\n",
    "with open(\"example.txt\", \"r\") as file:\n",
    "    for line in file:\n",
    "        print(line.strip())  # `strip()` removes newline characters\n",
    "```\n",
    "\n",
    "---\n",
    "\n",
    "## **5. Reading Specific Number of Characters**\n",
    "```python\n",
    "with open(\"example.txt\", \"r\") as file:\n",
    "    print(file.read(10))  # Reads first 10 characters\n",
    "```\n",
    "\n",
    "---\n",
    "\n",
    "## **6. Writing and Reading (`w+` Mode)**\n",
    "This mode overwrites the file and allows both writing and reading.\n",
    "\n",
    "```python\n",
    "with open(\"example.txt\", \"w+\") as file:\n",
    "    file.write(\"New content in the file.\\n\")\n",
    "    file.seek(0)  # Move cursor to the beginning\n",
    "    print(file.read())\n",
    "```\n",
    "\n",
    "---\n",
    "\n",
    "## **7. Checking if a File Exists Before Opening (`x` Mode)**\n",
    "```python\n",
    "try:\n",
    "    with open(\"newfile.txt\", \"x\") as file:\n",
    "        file.write(\"This file is created using x mode.\\n\")\n",
    "except FileExistsError:\n",
    "    print(\"File already exists!\")\n",
    "```\n",
    "\n",
    "---\n",
    "\n",
    "## **8. Using `tell()` and `seek()`**\n",
    "- `tell()` → Returns the current file position.\n",
    "- `seek(offset, whence)` → Moves the cursor to a specific position.\n",
    "\n",
    "```python\n",
    "with open(\"example.txt\", \"r\") as file:\n",
    "    print(file.read(5))  # Read first 5 characters\n",
    "    print(\"Cursor Position:\", file.tell())\n",
    "\n",
    "    file.seek(0)  # Move cursor to beginning\n",
    "    print(\"After seeking:\", file.read(10))  # Read first 10 characters again\n",
    "```\n",
    "\n",
    "---\n",
    "\n",
    "## **9. Reading a File Using `readlines()`**\n",
    "Reads all lines into a list.\n",
    "\n",
    "```python\n",
    "with open(\"example.txt\", \"r\") as file:\n",
    "    lines = file.readlines()\n",
    "    print(lines)\n",
    "```\n",
    "\n",
    "---\n",
    "\n",
    "## **10. Deleting a File**\n",
    "To delete a file, use the `os` module.\n",
    "\n",
    "```python\n",
    "import os\n",
    "\n",
    "if os.path.exists(\"example.txt\"):\n",
    "    os.remove(\"example.txt\")\n",
    "    print(\"File deleted successfully.\")\n",
    "else:\n",
    "    print(\"File does not exist.\")\n",
    "```\n",
    "\n",
    "---\n",
    "\n",
    "### **Conclusion**\n",
    "Python provides various modes for handling files efficiently. Always use the `with open()` statement to avoid manual closing and potential resource leaks.\n",
    "\n",
    "Would you like additional examples on any specific file operation? 😊\n"
   ]
  },
  {
   "cell_type": "code",
   "execution_count": 1,
   "metadata": {},
   "outputs": [],
   "source": [
    "with open(\"example.txt\",'w') as file:\n",
    "    file.write(\"Hello, this is line 1\\n\")\n",
    "    file.write(\"This is line 2\\n\") \n",
    "    file.write(\"And here is line 3\\n\")"
   ]
  },
  {
   "cell_type": "code",
   "execution_count": 2,
   "metadata": {},
   "outputs": [
    {
     "name": "stdout",
     "output_type": "stream",
     "text": [
      "Hello, this is line 1\n",
      "This is line 2\n",
      "And here is line 3\n",
      "\n"
     ]
    }
   ],
   "source": [
    "with open(\"example.txt\", \"r\") as file:\n",
    "    content = file.read()\n",
    "    print(content)\n"
   ]
  },
  {
   "cell_type": "code",
   "execution_count": 3,
   "metadata": {},
   "outputs": [
    {
     "name": "stdout",
     "output_type": "stream",
     "text": [
      "Hello, this is line 1\n",
      "This is line 2\n",
      "And here is line 3\n",
      "This is an appended line\n",
      "And another appended line\n",
      "\n"
     ]
    }
   ],
   "source": [
    "with open(\"example.txt\", \"a\") as file:\n",
    "    file.write(\"This is an appended line\\n\")\n",
    "    file.write(\"And another appended line\\n\")\n",
    "\n",
    "# Read the file again to see the changes\n",
    "with open(\"example.txt\", \"r\") as file:\n",
    "    content = file.read()\n",
    "    print(content)\n"
   ]
  },
  {
   "cell_type": "code",
   "execution_count": 4,
   "metadata": {},
   "outputs": [
    {
     "name": "stdout",
     "output_type": "stream",
     "text": [
      "Line content: Hello, this is line 1\n",
      "Line content: This is line 2\n",
      "Line content: And here is line 3\n",
      "Line content: This is an appended line\n",
      "Line content: And another appended line\n"
     ]
    }
   ],
   "source": [
    "# Read the file line by line\n",
    "with open(\"example.txt\", \"r\") as file:\n",
    "    for line in file:\n",
    "        # strip() removes trailing newline\n",
    "        print(f\"Line content: {line.strip()}\")\n"
   ]
  },
  {
   "cell_type": "code",
   "execution_count": 5,
   "metadata": {},
   "outputs": [
    {
     "name": "stdout",
     "output_type": "stream",
     "text": [
      "First 10 characters: Hello, thi\n",
      "Next 10 characters: s is line \n"
     ]
    }
   ],
   "source": [
    "# Read first 10 characters from the file\n",
    "with open(\"example.txt\", \"r\") as file:\n",
    "    first_ten = file.read(10)\n",
    "    print(\"First 10 characters:\", first_ten)\n",
    "\n",
    "# Move cursor and read next 10 characters\n",
    "    next_ten = file.read(10)\n",
    "    print(\"Next 10 characters:\", next_ten)\n"
   ]
  },
  {
   "cell_type": "code",
   "execution_count": 6,
   "metadata": {},
   "outputs": [
    {
     "name": "stdout",
     "output_type": "stream",
     "text": [
      "Content after writing:\n",
      "First line\n",
      "Second line\n",
      "\n"
     ]
    }
   ],
   "source": [
    "# Open file in write and read mode (w+)\n",
    "with open(\"example.txt\", \"w+\") as file:\n",
    "    # Write some content\n",
    "    file.write(\"First line\\n\")\n",
    "    file.write(\"Second line\\n\")\n",
    "    \n",
    "    # Move cursor to beginning of file\n",
    "    file.seek(0)\n",
    "    \n",
    "    # Read and print the content\n",
    "    content = file.read()\n",
    "    print(\"Content after writing:\")\n",
    "    print(content)\n"
   ]
  },
  {
   "cell_type": "code",
   "execution_count": 7,
   "metadata": {},
   "outputs": [
    {
     "name": "stdout",
     "output_type": "stream",
     "text": [
      "File contents:\n",
      "First line\n",
      "Second line\n",
      "\n"
     ]
    }
   ],
   "source": [
    "import os\n",
    "\n",
    "# Check if file exists before opening\n",
    "file_path = \"example.txt\"\n",
    "\n",
    "if os.path.exists(file_path):\n",
    "    with open(file_path, \"r\") as file:\n",
    "        content = file.read()\n",
    "        print(\"File contents:\")\n",
    "        print(content)\n",
    "else:\n",
    "    print(f\"The file {file_path} does not exist\")\n"
   ]
  },
  {
   "cell_type": "code",
   "execution_count": 12,
   "metadata": {},
   "outputs": [
    {
     "name": "stdout",
     "output_type": "stream",
     "text": [
      "Error: File already exists\n",
      "\n",
      "File contents:\n",
      "This is a new file\n",
      "\n"
     ]
    }
   ],
   "source": [
    "# Open file in exclusive creation mode ('x')\n",
    "# This will fail if file already exists\n",
    "try:\n",
    "    with open(\"new_file.txt\", \"x\") as file:\n",
    "        file.write(\"This is a new file\\n\")\n",
    "        print(\"File created successfully\")\n",
    "except FileExistsError:\n",
    "    print(\"Error: File already exists\")\n",
    "\n",
    "# Try reading the file to verify\n",
    "try:\n",
    "    with open(\"new_file.txt\", \"r\") as file:\n",
    "        content = file.read()\n",
    "        print(\"\\nFile contents:\")\n",
    "        print(content)\n",
    "except FileNotFoundError:\n",
    "    print(\"Could not read the file\")\n"
   ]
  },
  {
   "cell_type": "code",
   "execution_count": 13,
   "metadata": {},
   "outputs": [
    {
     "name": "stdout",
     "output_type": "stream",
     "text": [
      "First\n",
      "Cursor Position: 5\n",
      "After seeking: First line\n"
     ]
    }
   ],
   "source": [
    "with open(\"example.txt\", \"r\") as file:\n",
    "    print(file.read(5))  # Read first 5 characters\n",
    "    print(\"Cursor Position:\", file.tell())\n",
    "\n",
    "    file.seek(0)  # Move cursor to beginning\n",
    "    print(\"After seeking:\", file.read(10))  # Read first 10 characters again\n"
   ]
  },
  {
   "cell_type": "code",
   "execution_count": 14,
   "metadata": {},
   "outputs": [
    {
     "name": "stdout",
     "output_type": "stream",
     "text": [
      "All lines in list: ['First line\\n', 'Second line\\n']\n",
      "\n",
      "Printing each line:\n",
      "First line\n",
      "Second line\n"
     ]
    }
   ],
   "source": [
    "# Reading file line by line using readlines()\n",
    "with open(\"example.txt\", \"r\") as file:\n",
    "    lines = file.readlines()\n",
    "    print(\"All lines in list:\", lines)\n",
    "    \n",
    "    print(\"\\nPrinting each line:\")\n",
    "    for line in lines:\n",
    "        print(line.strip())  # strip() removes trailing newlines\n"
   ]
  },
  {
   "cell_type": "code",
   "execution_count": 16,
   "metadata": {},
   "outputs": [
    {
     "name": "stdout",
     "output_type": "stream",
     "text": [
      "Error: File not found\n"
     ]
    }
   ],
   "source": [
    "import os\n",
    "\n",
    "try:\n",
    "    os.remove(\"new_file.txt\")\n",
    "    print(\"File deleted successfully\")\n",
    "except FileNotFoundError:\n",
    "    print(\"Error: File not found\")\n"
   ]
  },
  {
   "cell_type": "markdown",
   "metadata": {},
   "source": []
  },
  {
   "cell_type": "code",
   "execution_count": 17,
   "metadata": {},
   "outputs": [],
   "source": [
    "from datetime import datetime\n",
    "\n",
    "def writeLog(message):\n",
    "    with open('service_log.txt', 'a') as file:\n",
    "        time_stamp = datetime.now().strftime(\"%Y-%m-%d %H:%M:%S\")  # Format: 2023-10-25 14:30:45\n",
    "        file.write(f\"{time_stamp}: {message}\\n\")\n",
    "\n",
    "writeLog(\"Application started\")\n",
    "writeLog(\"Processing user request\")\n",
    "writeLog(\"Database connection established\")\n"
   ]
  },
  {
   "cell_type": "code",
   "execution_count": 18,
   "metadata": {},
   "outputs": [
    {
     "name": "stdout",
     "output_type": "stream",
     "text": [
      "2025-03-15 14:20:45: Application started\n",
      "2025-03-15 14:20:45: Processing user request\n",
      "2025-03-15 14:20:45: Database connection established\n",
      "\n"
     ]
    }
   ],
   "source": [
    "with open('service_log.txt','r') as log_file:\n",
    "    content=log_file.read()\n",
    "    print(content)"
   ]
  },
  {
   "cell_type": "code",
   "execution_count": 19,
   "metadata": {},
   "outputs": [
    {
     "name": "stdout",
     "output_type": "stream",
     "text": [
      "Basic date: 2025-03-15\n",
      "Basic time: 14:23:49\n",
      "Date and time: 2025-03-15 14:23:49\n",
      "Short date: 15/03/25\n",
      "Long date: March 15, 2025\n",
      "Abbreviated month: Mar 15, 2025\n",
      "Day of week: Saturday, March 15\n",
      "12-hour time: 02:23 PM\n",
      "24-hour time with timezone: 14:23 \n",
      "Time with milliseconds: 14:23:49.654023\n",
      "Day of year: 074\n",
      "Week number: 10\n",
      "ISO week date: 2025-W10-6\n"
     ]
    }
   ],
   "source": [
    "# Different examples of datetime formatting with strftime\n",
    "from datetime import datetime\n",
    "\n",
    "current_time = datetime.now()\n",
    "\n",
    "# Basic date and time formats\n",
    "print(f\"Basic date: {current_time.strftime('%Y-%m-%d')}\")  # 2023-10-25\n",
    "print(f\"Basic time: {current_time.strftime('%H:%M:%S')}\")  # 14:30:45\n",
    "print(f\"Date and time: {current_time.strftime('%Y-%m-%d %H:%M:%S')}\")  # 2023-10-25 14:30:45\n",
    "\n",
    "# Different date formats\n",
    "print(f\"Short date: {current_time.strftime('%d/%m/%y')}\")  # 25/10/23\n",
    "print(f\"Long date: {current_time.strftime('%B %d, %Y')}\")  # October 25, 2023\n",
    "print(f\"Abbreviated month: {current_time.strftime('%b %d, %Y')}\")  # Oct 25, 2023\n",
    "print(f\"Day of week: {current_time.strftime('%A, %B %d')}\")  # Wednesday, October 25\n",
    "\n",
    "# Different time formats\n",
    "print(f\"12-hour time: {current_time.strftime('%I:%M %p')}\")  # 02:30 PM\n",
    "print(f\"24-hour time with timezone: {current_time.strftime('%H:%M %Z')}\")  # 14:30 UTC\n",
    "print(f\"Time with milliseconds: {current_time.strftime('%H:%M:%S.%f')}\")  # 14:30:45.123456\n",
    "\n",
    "# Special formats\n",
    "print(f\"Day of year: {current_time.strftime('%j')}\")  # 298\n",
    "print(f\"Week number: {current_time.strftime('%U')}\")  # 42\n",
    "print(f\"ISO week date: {current_time.strftime('%Y-W%W-%w')}\")  # 2023-W42-3\n"
   ]
  },
  {
   "cell_type": "code",
   "execution_count": 20,
   "metadata": {},
   "outputs": [
    {
     "name": "stdout",
     "output_type": "stream",
     "text": [
      "d:\\git\\gcp-DE\\workwith-ai\\python\n"
     ]
    }
   ],
   "source": [
    "import os\n",
    "print(os.getcwd())"
   ]
  },
  {
   "cell_type": "code",
   "execution_count": 22,
   "metadata": {},
   "outputs": [
    {
     "name": "stdout",
     "output_type": "stream",
     "text": [
      "data\\sales.csv\n",
      "d:\\git\\gcp-DE\\workwith-ai\\python\\data\\sales.csv\n"
     ]
    }
   ],
   "source": [
    "folder='data'\n",
    "file_name='sales.csv'\n",
    "\n",
    "file_path=os.path.join(folder,file_name)\n",
    "print(file_path)\n",
    "file_path_new=os.path.join(os.getcwd(),folder,file_name)\n",
    "print(file_path_new)\n",
    "\n"
   ]
  },
  {
   "cell_type": "code",
   "execution_count": 25,
   "metadata": {},
   "outputs": [
    {
     "name": "stdout",
     "output_type": "stream",
     "text": [
      "file exists\n"
     ]
    }
   ],
   "source": [
    "import os\n",
    "\n",
    "file_path='data/sales.csv'\n",
    "if os.path.exists(file_path):\n",
    "    print(\"file exists\")\n",
    "else:\n",
    "    print(\"file doesn't  exists\")"
   ]
  },
  {
   "cell_type": "code",
   "execution_count": 24,
   "metadata": {},
   "outputs": [
    {
     "name": "stdout",
     "output_type": "stream",
     "text": [
      "sales.csv file created successfully\n"
     ]
    }
   ],
   "source": [
    "# Create data directory if it doesn't exist\n",
    "if not os.path.exists('data'):\n",
    "    os.makedirs('data')\n",
    "\n",
    "# Sample sales data\n",
    "sales_data = \"\"\"date,product,quantity,price\n",
    "2023-01-01,Widget A,5,10.99\n",
    "2023-01-02,Widget B,3,15.99\n",
    "2023-01-03,Widget A,2,10.99\n",
    "2023-01-04,Widget C,7,8.99\"\"\"\n",
    "\n",
    "# Write data to sales.csv\n",
    "with open('data/sales.csv', 'w') as f:\n",
    "    f.write(sales_data)\n",
    "\n",
    "print(\"sales.csv file created successfully\")\n"
   ]
  },
  {
   "cell_type": "code",
   "execution_count": 32,
   "metadata": {},
   "outputs": [
    {
     "name": "stdout",
     "output_type": "stream",
     "text": [
      "it's a directory\n",
      "it's a  file\n"
     ]
    }
   ],
   "source": [
    "import os\n",
    "\n",
    "def check_path(path) :\n",
    "\n",
    "    if os.path.isfile(path):\n",
    "        print(\"it's a  file\")\n",
    "    elif os.path.isdir(path):\n",
    "        print(\"it's a directory\")\n",
    "\n",
    "\n",
    "path1=\"data\"\n",
    "path2=\"data/sales.csv\"\n",
    "\n",
    "check_path(path1)\n",
    "check_path(path2)\n"
   ]
  },
  {
   "cell_type": "code",
   "execution_count": 37,
   "metadata": {},
   "outputs": [
    {
     "name": "stdout",
     "output_type": "stream",
     "text": [
      "report.pdf\n",
      "---------\n",
      "/home/user/documents\n",
      "---------\n",
      ".pdf\n"
     ]
    }
   ],
   "source": [
    "import os\n",
    "\n",
    "file_path = \"/home/user/documents/report.pdf\"\n",
    "\n",
    "print(os.path.basename(file_path))\n",
    "print(\"---------\")\n",
    "print(os.path.dirname(file_path))\n",
    "print(\"---------\")\n",
    "print(os.path.splitext(file_path)[1])"
   ]
  },
  {
   "cell_type": "code",
   "execution_count": 42,
   "metadata": {},
   "outputs": [
    {
     "name": "stdout",
     "output_type": "stream",
     "text": [
      "file name : report.pdf\n",
      "Directory :  \\home\\user\\documents\n",
      "file extension : .pdf\n"
     ]
    }
   ],
   "source": [
    "from pathlib import Path\n",
    "file_path = Path(\"/home/user/documents/report.pdf\")\n",
    "\n",
    "print(\"file name :\", file_path.name)\n",
    "print(\"Directory : \", file_path.parent)\n",
    "print(\"file extension :\", file_path.suffix)"
   ]
  },
  {
   "cell_type": "code",
   "execution_count": 44,
   "metadata": {},
   "outputs": [
    {
     "name": "stdout",
     "output_type": "stream",
     "text": [
      "Current working directory: d:\\git\\gcp-DE\\workwith-ai\\python\n",
      "Home directory: C:\\Users\\upend\n",
      "Path exists: True\n",
      "Is file: True\n",
      "Is directory: False\n",
      "\n",
      "Contents of data directory:\n",
      "data\\sales.csv\n",
      "\n",
      "Python files in current directory:\n",
      "test-ollama.py\n",
      "test_pack.py\n",
      "\n",
      "Joined path: config\\settings.json\n",
      "Absolute path: d:\\git\\gcp-DE\\workwith-ai\\python\\data\\sales.csv\n"
     ]
    }
   ],
   "source": [
    "from pathlib import Path\n",
    "\n",
    "# Create a Path object\n",
    "path = Path('data/sales.csv')\n",
    "\n",
    "# Get current working directory\n",
    "print(\"Current working directory:\", Path.cwd())\n",
    "\n",
    "# Home directory\n",
    "print(\"Home directory:\", Path.home())\n",
    "\n",
    "# Check if path exists\n",
    "print(\"Path exists:\", path.exists())\n",
    "\n",
    "# Check if it's a file\n",
    "print(\"Is file:\", path.is_file())\n",
    "\n",
    "# Check if it's a directory \n",
    "print(\"Is directory:\", path.is_dir())\n",
    "\n",
    "# Create directories\n",
    "new_dir = Path('new_folder/subfolder')\n",
    "new_dir.mkdir(parents=True, exist_ok=True)\n",
    "\n",
    "# List contents of a directory\n",
    "data_dir = Path('data')\n",
    "print(\"\\nContents of data directory:\")\n",
    "for item in data_dir.iterdir():\n",
    "    print(item)\n",
    "\n",
    "# Pattern matching\n",
    "print(\"\\nPython files in current directory:\")\n",
    "for py_file in Path('.').glob('*.py'):\n",
    "    print(py_file)\n",
    "\n",
    "# Joining paths\n",
    "config_path = Path('config')\n",
    "file_path = config_path / 'settings.json'\n",
    "print(\"\\nJoined path:\", file_path)\n",
    "\n",
    "# Get absolute path\n",
    "print(\"Absolute path:\", path.absolute())\n"
   ]
  },
  {
   "cell_type": "code",
   "execution_count": 47,
   "metadata": {},
   "outputs": [
    {
     "name": "stdout",
     "output_type": "stream",
     "text": [
      "['1-list-demo.ipynb', '2-tuples.ipynb', '3-dict.ipynb', '4.Real-exapmples-lists.ipynb', '5-functions_in_python.ipynb', '6-lamda-demos.ipynb', '7-Modules_and_packages.ipynb', '8-standard-packs.ipynb', '9.file-operations.ipynb', 'data', 'destination.txt', 'example.csv', 'example.txt', 'myenv', 'new_folder', 'openai-test.ipynb', 'package', 'sample.txt', 'service_log.txt', 'source.txt', 'test-ollama.py', 'testDir', 'test_pack.py']\n",
      "['sales.csv']\n"
     ]
    }
   ],
   "source": [
    "import os\n",
    "\n",
    "files=os.listdir(\".\")\n",
    "print(files)\n",
    "\n",
    "files=os.listdir(\"data\")\n",
    "print(files)"
   ]
  },
  {
   "cell_type": "code",
   "execution_count": 49,
   "metadata": {},
   "outputs": [
    {
     "name": "stdout",
     "output_type": "stream",
     "text": [
      "folder created\n"
     ]
    }
   ],
   "source": [
    "import os\n",
    "\n",
    "os.makedirs(\"sales\", exist_ok=True)\n",
    "print(\"folder created\")"
   ]
  }
 ],
 "metadata": {
  "kernelspec": {
   "display_name": "myenv",
   "language": "python",
   "name": "python3"
  },
  "language_info": {
   "codemirror_mode": {
    "name": "ipython",
    "version": 3
   },
   "file_extension": ".py",
   "mimetype": "text/x-python",
   "name": "python",
   "nbconvert_exporter": "python",
   "pygments_lexer": "ipython3",
   "version": "3.13.1"
  }
 },
 "nbformat": 4,
 "nbformat_minor": 2
}

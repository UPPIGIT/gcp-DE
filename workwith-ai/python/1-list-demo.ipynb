{
 "cells": [
  {
   "cell_type": "markdown",
   "metadata": {},
   "source": [
    "#### List demo"
   ]
  },
  {
   "cell_type": "code",
   "execution_count": 2,
   "metadata": {},
   "outputs": [
    {
     "name": "stdout",
     "output_type": "stream",
     "text": [
      "<class 'list'>\n"
     ]
    }
   ],
   "source": [
    "lst=[]\n",
    "print(type(lst))"
   ]
  },
  {
   "cell_type": "code",
   "execution_count": 5,
   "metadata": {},
   "outputs": [
    {
     "name": "stdout",
     "output_type": "stream",
     "text": [
      "['John', 'Bob', 'Alice', 10, 20, 30]\n"
     ]
    }
   ],
   "source": [
    "names = ['John', 'Bob', 'Alice' ,10, 20, 30]\n",
    "print(names)"
   ]
  },
  {
   "cell_type": "code",
   "execution_count": 6,
   "metadata": {},
   "outputs": [
    {
     "name": "stdout",
     "output_type": "stream",
     "text": [
      "[10, 20, 30, 'John', 'Bob', 'Alice', True]\n"
     ]
    }
   ],
   "source": [
    "mixed_list = [10, 20, 30, 'John', 'Bob', 'Alice' ,True]\n",
    "print(mixed_list)"
   ]
  },
  {
   "cell_type": "code",
   "execution_count": 17,
   "metadata": {},
   "outputs": [
    {
     "name": "stdout",
     "output_type": "stream",
     "text": [
      "banana\n",
      "cherry\n",
      "['banana', 'cherry']\n",
      "['apple', 'banana']\n",
      "['banana', 'cherry']\n",
      "['banana', 'cherry']\n",
      "['apple', 'banana']\n",
      "['apple', 'banana', 'cherry']\n",
      "['apple', 'cherry']\n",
      "['cherry', 'banana', 'apple']\n",
      "['cherry', 'apple']\n"
     ]
    }
   ],
   "source": [
    "fruits = ['apple', 'banana', 'cherry']\n",
    "print(fruits[1])\n",
    "print(fruits[-1])\n",
    "print(fruits[1:3])\n",
    "print(fruits[:2])\n",
    "print(fruits[1:])\n",
    "print(fruits[-2:])\n",
    "print(fruits[:-1])\n",
    "# explain the output\n",
    "print(fruits[::1])      # ['apple', 'banana', 'cherry']\n",
    "print(fruits[::2])    # ['apple', 'cherry']\n",
    "print(fruits[::-1])   # ['cherry', 'banana', 'apple']\n",
    "print(fruits[::-2])     # ['cherry', 'apple']       \n"
   ]
  },
  {
   "cell_type": "code",
   "execution_count": 25,
   "metadata": {},
   "outputs": [
    {
     "name": "stdout",
     "output_type": "stream",
     "text": [
      "['apple', 'banana', 'cherry']\n",
      "['apple', 'mango', 'cherry']\n",
      "['mango', 'cherry']\n",
      "['apple', 'banana', 'cherry']\n",
      "['cherry']\n",
      "['apple', 'banana', 'grapes', 'orange']\n"
     ]
    }
   ],
   "source": [
    "fruits = ['apple', 'banana', 'cherry']\n",
    "print(fruits)\n",
    "fruits[1] = 'mango'\n",
    "print(fruits)\n",
    "print(fruits[1:])\n",
    "fruits[1:] = ['banana', 'cherry']   \n",
    "print(fruits)\n",
    "print(fruits[2:])\n",
    "fruits[2:] = ['grapes', 'orange'] \n",
    "print(fruits)"
   ]
  },
  {
   "cell_type": "code",
   "execution_count": 31,
   "metadata": {},
   "outputs": [
    {
     "name": "stdout",
     "output_type": "stream",
     "text": [
      "['apple', 'banana', 'cherry', 'dates', 'fig']\n",
      "['apple', 'banana', 'mango', 'cherry', 'dates', 'fig']\n",
      "['apple', 'banana', 'mango', 'cherry', 'dates', 'fig', 'grapes']\n",
      "grapes\n",
      "['apple', 'mango', 'cherry', 'dates', 'fig']\n"
     ]
    }
   ],
   "source": [
    "fruits = ['apple', 'banana', 'cherry', 'dates', 'fig']  \n",
    "print(fruits)\n",
    "fruits.insert(2, 'mango')\n",
    "print(fruits)\n",
    "fruits.append('grapes')\n",
    "print(fruits)\n",
    "fruits.remove('banana')\n",
    "poped_item = fruits.pop()\n",
    "print(poped_item)\n",
    "print(fruits)"
   ]
  },
  {
   "cell_type": "code",
   "execution_count": 35,
   "metadata": {},
   "outputs": [
    {
     "name": "stdout",
     "output_type": "stream",
     "text": [
      "1\n"
     ]
    }
   ],
   "source": [
    "index = fruits.index('mango')\n",
    "print(index)\n",
    "\n"
   ]
  },
  {
   "cell_type": "code",
   "execution_count": 37,
   "metadata": {},
   "outputs": [
    {
     "name": "stdout",
     "output_type": "stream",
     "text": [
      "['apple', 'mango', 'mango', 'mango', 'cherry', 'dates', 'fig']\n",
      "3\n",
      "1\n"
     ]
    }
   ],
   "source": [
    "fruits.insert(2, 'mango')  \n",
    "print(fruits)\n",
    "print(fruits.count('mango')) \n",
    "print(fruits.count('apple'))"
   ]
  },
  {
   "cell_type": "code",
   "execution_count": 41,
   "metadata": {},
   "outputs": [
    {
     "name": "stdout",
     "output_type": "stream",
     "text": [
      "['apple', 'banana', 'cherry', 'dates', 'fig']\n",
      "['fig', 'dates', 'cherry', 'banana', 'apple']\n",
      "['apple', 'banana', 'cherry', 'dates', 'fig']\n"
     ]
    }
   ],
   "source": [
    "fruits = ['apple', 'banana', 'cherry', 'dates', 'fig']\n",
    "fruits.sort()\n",
    "print(fruits)\n",
    "fruits.sort(reverse=True)\n",
    "print(fruits)\n",
    "fruits.reverse()\n",
    "print(fruits)"
   ]
  },
  {
   "cell_type": "code",
   "execution_count": 48,
   "metadata": {},
   "outputs": [
    {
     "name": "stdout",
     "output_type": "stream",
     "text": [
      "[20, 30, 40, 50]\n",
      "[20, 40]\n",
      "[10, 30, 50, 70, 90]\n",
      "[90, 80, 70, 60, 50, 40, 30, 20, 10]\n",
      "[10, 20, 30, 40, 50, 60, 70, 80, 90]\n",
      "[10, 20, 30, 40, 50, 60, 70, 80, 90]\n",
      "[90, 70, 50, 30, 10]\n"
     ]
    }
   ],
   "source": [
    "# slicing list\n",
    "numbers = [10, 20, 30, 40, 50, 60, 70, 80, 90] \n",
    "print(numbers[1:5])\n",
    "print(numbers[1:5:2])\n",
    "print(numbers[::2])\n",
    "print(numbers[::-1])\n",
    "print(numbers[::])\n",
    "print(numbers[:])\n",
    "print(numbers[::-2])"
   ]
  },
  {
   "cell_type": "code",
   "execution_count": 52,
   "metadata": {},
   "outputs": [
    {
     "name": "stdout",
     "output_type": "stream",
     "text": [
      "10 20 30 40 50 60 70 80 90 \n",
      "\n",
      "0 10\n",
      "1 20\n",
      "2 30\n",
      "3 40\n",
      "4 50\n",
      "5 60\n",
      "6 70\n",
      "7 80\n",
      "8 90\n"
     ]
    }
   ],
   "source": [
    "# iterate list\n",
    "numbers = [10, 20, 30, 40, 50, 60, 70, 80, 90]\n",
    "for number in numbers:\n",
    "    print(number, end=' ')\n",
    "print(\"\\n\")\n",
    "for index, number in enumerate(numbers):\n",
    "    print(index, number)"
   ]
  },
  {
   "cell_type": "code",
   "execution_count": 54,
   "metadata": {},
   "outputs": [
    {
     "name": "stdout",
     "output_type": "stream",
     "text": [
      "[100, 400, 900, 1600, 2500, 3600, 4900, 6400, 8100]\n"
     ]
    }
   ],
   "source": [
    "# list comprehension\n",
    "numbers = [10, 20, 30, 40, 50, 60, 70, 80, 90]\n",
    "squared_numbers = []\n",
    "for number in numbers:\n",
    "    squared_numbers.append(number*number)\n",
    "print(squared_numbers)"
   ]
  },
  {
   "cell_type": "code",
   "execution_count": 55,
   "metadata": {},
   "outputs": [
    {
     "name": "stdout",
     "output_type": "stream",
     "text": [
      "[100, 400, 900, 1600, 2500, 3600, 4900, 6400, 8100]\n"
     ]
    }
   ],
   "source": [
    "number=[10, 20, 30, 40, 50, 60, 70, 80, 90]\n",
    "squared_numbers = [number*number for number in numbers]\n",
    "print(squared_numbers)"
   ]
  },
  {
   "cell_type": "code",
   "execution_count": 57,
   "metadata": {},
   "outputs": [
    {
     "name": "stdout",
     "output_type": "stream",
     "text": [
      "[100, 400, 900, 1600, 2500, 3600, 4900, 6400, 8100]\n"
     ]
    }
   ],
   "source": [
    "squared_numbers =[i*i for i in range(10, 100, 10)]\n",
    "print(squared_numbers)"
   ]
  },
  {
   "cell_type": "code",
   "execution_count": 58,
   "metadata": {},
   "outputs": [
    {
     "name": "stdout",
     "output_type": "stream",
     "text": [
      "[10, 20, 30, 40, 50, 60, 70, 80, 90]\n"
     ]
    }
   ],
   "source": [
    "# list comprehension with if condition\n",
    "even_numbers = [i for i in range(10, 100, 10) if i%2 == 0]\n",
    "print(even_numbers)\n"
   ]
  },
  {
   "cell_type": "code",
   "execution_count": 60,
   "metadata": {},
   "outputs": [
    {
     "name": "stdout",
     "output_type": "stream",
     "text": [
      "['Even', 'Even', 'Even', 'Even', 'Even', 'Even', 'Even', 'Even', 'Even']\n"
     ]
    }
   ],
   "source": [
    "# list comprehension with if else condition\n",
    "even_odd_numbers = ['Even' if i%2 == 0 else 'Odd' for i in range(10, 100, 10)]\n",
    "print(even_odd_numbers)"
   ]
  },
  {
   "cell_type": "code",
   "execution_count": 61,
   "metadata": {},
   "outputs": [
    {
     "name": "stdout",
     "output_type": "stream",
     "text": [
      "[1, 2, 3, 4, 5, 6, 7, 8, 9]\n"
     ]
    }
   ],
   "source": [
    "# list comprehension with nested loop\n",
    "matrix = [[1, 2, 3], [4, 5, 6], [7, 8, 9]]\n",
    "flattened_matrix = [number for row in matrix for number in row]\n",
    "print(flattened_matrix)"
   ]
  },
  {
   "cell_type": "code",
   "execution_count": 62,
   "metadata": {},
   "outputs": [
    {
     "name": "stdout",
     "output_type": "stream",
     "text": [
      "[5, 6, 6]\n"
     ]
    }
   ],
   "source": [
    "words=['apple', 'banana', 'cherry']\n",
    "lenths = [len(word) for word in words]\n",
    "print(lenths)"
   ]
  },
  {
   "cell_type": "code",
   "execution_count": 63,
   "metadata": {},
   "outputs": [
    {
     "name": "stdout",
     "output_type": "stream",
     "text": [
      "[(10, 60), (20, 70), (30, 80), (40, 90), (50, 100)]\n"
     ]
    }
   ],
   "source": [
    "list1 = [10, 20, 30, 40, 50]\n",
    "list2 = [60, 70, 80, 90, 100]\n",
    "zipped = list(zip(list1, list2))\n",
    "print(zipped)"
   ]
  }
 ],
 "metadata": {
  "kernelspec": {
   "display_name": "myenv",
   "language": "python",
   "name": "python3"
  },
  "language_info": {
   "codemirror_mode": {
    "name": "ipython",
    "version": 3
   },
   "file_extension": ".py",
   "mimetype": "text/x-python",
   "name": "python",
   "nbconvert_exporter": "python",
   "pygments_lexer": "ipython3",
   "version": "3.13.1"
  }
 },
 "nbformat": 4,
 "nbformat_minor": 2
}

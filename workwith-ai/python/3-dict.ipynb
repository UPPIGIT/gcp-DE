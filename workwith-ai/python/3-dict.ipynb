{
 "cells": [
  {
   "cell_type": "markdown",
   "metadata": {},
   "source": [
    "### dictionary demo\n",
    "\n"
   ]
  },
  {
   "cell_type": "code",
   "execution_count": 2,
   "metadata": {},
   "outputs": [
    {
     "name": "stdout",
     "output_type": "stream",
     "text": [
      "{}\n",
      "{}\n"
     ]
    }
   ],
   "source": [
    "#create dictionary\n",
    "#empty dictionary\n",
    "my_dict = {}\n",
    "print(my_dict)\n",
    "# other way to create dictionary\n",
    "my_dict = dict()\n",
    "print(my_dict)\n",
    "\n"
   ]
  },
  {
   "cell_type": "code",
   "execution_count": 3,
   "metadata": {},
   "outputs": [
    {
     "name": "stdout",
     "output_type": "stream",
     "text": [
      "{1: 'apple', 2: 'ball'}\n",
      "{'name': 'John', 1: [2, 4, 3]}\n"
     ]
    }
   ],
   "source": [
    "#dictionary with integer keys\n",
    "my_dict = {1: 'apple', 2: 'ball'}\n",
    "print(my_dict)\n",
    "\n",
    "#dictionary with mixed keys\n",
    "my_dict = {'name': 'John', 1: [2, 4, 3]}\n",
    "print(my_dict)\n",
    "\n"
   ]
  },
  {
   "cell_type": "code",
   "execution_count": 4,
   "metadata": {},
   "outputs": [
    {
     "name": "stdout",
     "output_type": "stream",
     "text": [
      "{1: 'apple', 2: 'ball'}\n",
      "{1: 'apple', 2: 'ball'}\n"
     ]
    }
   ],
   "source": [
    "# different ways to create dictionary\n",
    "#using dict()\n",
    "my_dict = dict({1:'apple', 2:'ball'})\n",
    "print(my_dict)\n",
    "# from sequence having each item as a pair\n",
    "my_dict = dict([(1,'apple'), (2,'ball')])\n",
    "print(my_dict)\n",
    " \n",
    " \n"
   ]
  },
  {
   "cell_type": "code",
   "execution_count": 5,
   "metadata": {},
   "outputs": [
    {
     "name": "stdout",
     "output_type": "stream",
     "text": [
      "Jack\n",
      "26\n",
      "None\n",
      "NA\n"
     ]
    }
   ],
   "source": [
    "##Access elements from a dictionary\n",
    "my_dict = {'name': 'Jack', 'age': 26}\n",
    "print(my_dict['name'])\n",
    "print(my_dict.get('age'))\n",
    "#access elements using get()\n",
    "print(my_dict.get('address'))\n",
    "#access elements using get() with default value\n",
    "print(my_dict.get('address', 'NA'))"
   ]
  },
  {
   "cell_type": "code",
   "execution_count": 6,
   "metadata": {},
   "outputs": [
    {
     "name": "stdout",
     "output_type": "stream",
     "text": [
      "{'name': 'Jack', 'age': 27}\n"
     ]
    }
   ],
   "source": [
    "#change or add elements in a dictionary\n",
    "my_dict = {'name': 'Jack', 'age': 26}\n",
    "#update value\n",
    "my_dict['age'] = 27\n",
    "print(my_dict)"
   ]
  },
  {
   "cell_type": "code",
   "execution_count": 7,
   "metadata": {},
   "outputs": [
    {
     "name": "stdout",
     "output_type": "stream",
     "text": [
      "{'name': 'Jack', 'age': 27, 'address': 'Downtown'}\n"
     ]
    }
   ],
   "source": [
    "#add item\n",
    "my_dict['address'] = 'Downtown'\n",
    "print(my_dict)\n"
   ]
  },
  {
   "cell_type": "code",
   "execution_count": 8,
   "metadata": {},
   "outputs": [
    {
     "name": "stdout",
     "output_type": "stream",
     "text": [
      "26\n",
      "{'name': 'Jack', 'address': 'Downtown'}\n"
     ]
    }
   ],
   "source": [
    "#delete or remove elements from a dictionary\n",
    "# create a dictionary\n",
    "my_dict = {'name': 'Jack', 'age': 26, 'address': 'Downtown'}\n",
    "# remove a particular item\n",
    "print(my_dict.pop('age'))\n",
    "print(my_dict)"
   ]
  },
  {
   "cell_type": "code",
   "execution_count": 9,
   "metadata": {},
   "outputs": [
    {
     "name": "stdout",
     "output_type": "stream",
     "text": [
      "('address', 'Downtown')\n",
      "{'name': 'Jack'}\n"
     ]
    }
   ],
   "source": [
    "# remove an arbitrary item\n",
    "print(my_dict.popitem())\n",
    "print(my_dict)"
   ]
  },
  {
   "cell_type": "code",
   "execution_count": 10,
   "metadata": {},
   "outputs": [
    {
     "name": "stdout",
     "output_type": "stream",
     "text": [
      "{}\n"
     ]
    }
   ],
   "source": [
    "# delete a particular item\n",
    "del my_dict['name']\n",
    "print(my_dict)"
   ]
  },
  {
   "cell_type": "code",
   "execution_count": 11,
   "metadata": {},
   "outputs": [],
   "source": [
    "# remove all items\n",
    "my_dict.clear()"
   ]
  },
  {
   "cell_type": "code",
   "execution_count": 12,
   "metadata": {},
   "outputs": [],
   "source": [
    "# delete the dictionary itself\n",
    "del my_dict\n"
   ]
  },
  {
   "cell_type": "code",
   "execution_count": 13,
   "metadata": {},
   "outputs": [
    {
     "name": "stdout",
     "output_type": "stream",
     "text": [
      "name\n",
      "age\n"
     ]
    }
   ],
   "source": [
    "#iterate through a dictionary\n",
    "my_dict = {'name': 'Jack', 'age': 26}\n",
    "# iterate over the keys of the dictionary\n",
    "for x in my_dict:\n",
    "    print(x)"
   ]
  },
  {
   "cell_type": "code",
   "execution_count": 14,
   "metadata": {},
   "outputs": [
    {
     "name": "stdout",
     "output_type": "stream",
     "text": [
      "Jack\n",
      "26\n"
     ]
    }
   ],
   "source": [
    "# iterate over the values of the dictionary\n",
    "for x in my_dict.values():\n",
    "    print(x)    "
   ]
  },
  {
   "cell_type": "code",
   "execution_count": 15,
   "metadata": {},
   "outputs": [
    {
     "name": "stdout",
     "output_type": "stream",
     "text": [
      "('name', 'Jack')\n",
      "('age', 26)\n"
     ]
    }
   ],
   "source": [
    "# iterate over key/value pairs\n",
    "for x in my_dict.items():\n",
    "    print(x)"
   ]
  },
  {
   "cell_type": "code",
   "execution_count": 17,
   "metadata": {},
   "outputs": [
    {
     "name": "stdout",
     "output_type": "stream",
     "text": [
      "name Jack\n",
      "age 26\n"
     ]
    }
   ],
   "source": [
    "# iterate over keys and values\n",
    "for key, value in my_dict.items():\n",
    "    print(key, value)\n"
   ]
  },
  {
   "cell_type": "code",
   "execution_count": 19,
   "metadata": {},
   "outputs": [
    {
     "name": "stdout",
     "output_type": "stream",
     "text": [
      "Name is present\n"
     ]
    }
   ],
   "source": [
    "#check if a key exists\n",
    "my_dict = {'name': 'Jack', 'age': 26}\n",
    "# check if key exist\n",
    "if 'name' in my_dict:\n",
    "    print('Name is present')\n",
    "    "
   ]
  },
  {
   "cell_type": "code",
   "execution_count": 23,
   "metadata": {},
   "outputs": [
    {
     "name": "stdout",
     "output_type": "stream",
     "text": [
      "{'name': 'Jack', 'age': 26}\n",
      "{'Math': 0, 'English': 0, 'Science': 0}\n",
      "dict_items([('name', 'Jack'), ('age', 26)])\n",
      "dict_keys(['name', 'age'])\n",
      "dict_values(['Jack', 26])\n"
     ]
    }
   ],
   "source": [
    "#dict methods\n",
    "my_dict = {'name': 'Jack', 'age': 26}\n",
    "# copy\n",
    "new_dict = my_dict.copy()\n",
    "print(new_dict)\n",
    "\n",
    "# fromkeys\n",
    "subjects = {}.fromkeys(['Math', 'English', 'Science'], 0)\n",
    "print(subjects)\n",
    "\n",
    "# items\n",
    "print(my_dict.items())\n",
    "\n",
    "# keys\n",
    "print(my_dict.keys())\n",
    "\n",
    "# values\n",
    "print(my_dict.values())\n"
   ]
  },
  {
   "cell_type": "markdown",
   "metadata": {},
   "source": []
  },
  {
   "cell_type": "code",
   "execution_count": 24,
   "metadata": {},
   "outputs": [
    {
     "name": "stdout",
     "output_type": "stream",
     "text": [
      "person =  {'name': 'Phill', 'age': 22}\n"
     ]
    }
   ],
   "source": [
    "# setdefault\n",
    "person = {'name': 'Phill', 'age': 22}\n",
    "age = person.setdefault('age')\n",
    "print('person = ',person)"
   ]
  },
  {
   "cell_type": "code",
   "execution_count": 27,
   "metadata": {},
   "outputs": [
    {
     "name": "stdout",
     "output_type": "stream",
     "text": [
      "dict_keys(['name', 'age'])\n"
     ]
    }
   ],
   "source": [
    "# all the keys of dictionary\n",
    "persons  = {'name': 'Phill'}\n",
    "dict_keys=person.keys()\n",
    "print(dict_keys)"
   ]
  },
  {
   "cell_type": "code",
   "execution_count": 30,
   "metadata": {},
   "outputs": [
    {
     "name": "stdout",
     "output_type": "stream",
     "text": [
      "Before change: {'name': 'Phill', 'age': 22}\n",
      "Before change: {'name': 'Phill', 'age': 22}\n",
      "After change: {'name': 'Greg', 'age': 22}\n",
      "After change: {'name': 'Phill', 'age': 22}\n"
     ]
    }
   ],
   "source": [
    "#shallow copy\n",
    "person = {'name': 'Phill', 'age': 22}\n",
    "print('Before change:', person)\n",
    "another_person = person.copy()\n",
    "print('Before change:', another_person)\n",
    "another_person['name'] = 'Greg'\n",
    "print('After change:', another_person)\n",
    "print('After change:', person)\n"
   ]
  },
  {
   "cell_type": "code",
   "execution_count": 31,
   "metadata": {},
   "outputs": [
    {
     "name": "stdout",
     "output_type": "stream",
     "text": [
      "Before change: {'name': 'Phill', 'age': 22, 'friends': ['John', 'Nash']}\n",
      "Before change: {'name': 'Phill', 'age': 22, 'friends': ['John', 'Nash']}\n",
      "After change: {'name': 'Phill', 'age': 22, 'friends': ['John', 'Nash', 'Sam']}\n",
      "After change: {'name': 'Phill', 'age': 22, 'friends': ['John', 'Nash']}\n"
     ]
    }
   ],
   "source": [
    "#deep copy\n",
    "import copy\n",
    "person = {'name': 'Phill', 'age': 22, 'friends': ['John', 'Nash']}\n",
    "print('Before change:', person)\n",
    "another_person = copy.deepcopy(person)\n",
    "print('Before change:', another_person)\n",
    "another_person['friends'].append('Sam')\n",
    "print('After change:', another_person)\n",
    "print('After change:', person)\n"
   ]
  },
  {
   "cell_type": "code",
   "execution_count": 32,
   "metadata": {},
   "outputs": [
    {
     "name": "stdout",
     "output_type": "stream",
     "text": [
      "name Phill\n",
      "age 22\n"
     ]
    }
   ],
   "source": [
    "#iterate over a dictionary\n",
    "person = {'name': 'Phill', 'age': 22}\n",
    "for key in person:\n",
    "    print(key, person[key])"
   ]
  },
  {
   "cell_type": "code",
   "execution_count": 33,
   "metadata": {},
   "outputs": [
    {
     "name": "stdout",
     "output_type": "stream",
     "text": [
      "name Phill\n",
      "age 22\n"
     ]
    }
   ],
   "source": [
    "#iterate over a dictionary using items()\n",
    "person = {'name': 'Phill', 'age': 22}\n",
    "for key, value in person.items():\n",
    "    print(key, value)"
   ]
  },
  {
   "cell_type": "code",
   "execution_count": 39,
   "metadata": {},
   "outputs": [
    {
     "name": "stdout",
     "output_type": "stream",
     "text": [
      "GOOGLE\n",
      "Software Engineer\n",
      "{0: 0, 1: 1, 2: 4, 3: 9, 4: 16, 5: 25}\n"
     ]
    }
   ],
   "source": [
    "## nested dictionary\n",
    "person = {'name': 'Phill',\n",
    "          'age': 22,\n",
    "          'job': {'company': 'GOOGLE', 'title': 'Software Engineer'}}\n",
    "print(person['job']['company'])\n",
    "print(person['job']['title'])\n",
    "\n",
    "#dictionary comprehension\n",
    "squares = {x: x*x for x in range(6)}\n",
    "print(squares)\n"
   ]
  },
  {
   "cell_type": "code",
   "execution_count": 40,
   "metadata": {},
   "outputs": [
    {
     "name": "stdout",
     "output_type": "stream",
     "text": [
      "{1: 1, 3: 9, 5: 25, 7: 49, 9: 81}\n"
     ]
    }
   ],
   "source": [
    "#dictionary comprehension with if condition\n",
    "odd_squares = {x: x*x for x in range(11) if x%2 == 1}\n",
    "print(odd_squares)\n"
   ]
  },
  {
   "cell_type": "code",
   "execution_count": 41,
   "metadata": {},
   "outputs": [],
   "source": [
    "#dictionary methods\n",
    "#clear()\tRemoves all the elements from the dictionary\n",
    "#copy()\tReturns a copy of the dictionary\n",
    "#fromkeys()\tReturns a dictionary with the specified keys and value\n",
    "#get()\tReturns the value of the specified key\n",
    "#items()\tReturns a list containing a tuple for each key value pair\n",
    "#keys()\tReturns a list containing the dictionary's keys\n",
    "#pop()\tRemoves the element with the specified key\n",
    "#popitem()\tRemoves the last inserted key-value pair\n",
    "#setdefault()\tReturns the value of the specified key. If the key does not exist: insert the key, with the specified value\n",
    "#update()\tUpdates the dictionary with the specified key-value pairs\n",
    "#values()\tReturns a list of all the values in the dictionary\n",
    "#Python Dictionary Methods\n",
    "#Method\tDescription\n",
    "\n"
   ]
  },
  {
   "cell_type": "code",
   "execution_count": 42,
   "metadata": {},
   "outputs": [],
   "source": [
    "#nested dictionary\n",
    "#A dictionary can contain another dictionary, which in turn can contain dictionaries themselves, and so on to create a nested dictionary.\n",
    "#A dictionary can contain dictionaries, this is called nested dictionaries.\n",
    "\n"
   ]
  },
  {
   "cell_type": "code",
   "execution_count": 44,
   "metadata": {},
   "outputs": [
    {
     "name": "stdout",
     "output_type": "stream",
     "text": [
      "{1: 4, 2: 3, 3: 4, 4: 4, 5: 4, 6: 4}\n"
     ]
    }
   ],
   "source": [
    "# practical exampls\n",
    "\n",
    "## use a dice to count frequency of each number\n",
    "numbers = [1, 2, 3, 4, 5, 6, 1, 3, 4, 5, 6, 1, 2, 3, 4, 5, 6, 1, 2, 3, 4, 5, 6]\n",
    "frequencey  = {}\n",
    "for number in numbers:\n",
    "    if number in frequencey:\n",
    "        frequencey[number] += 1\n",
    "    else:\n",
    "        frequencey[number] = 1  \n",
    "print(frequencey)"
   ]
  },
  {
   "cell_type": "code",
   "execution_count": 47,
   "metadata": {},
   "outputs": [
    {
     "name": "stdout",
     "output_type": "stream",
     "text": [
      "{1: 'apple', 2: 'ball', 3: 'cat'}\n"
     ]
    }
   ],
   "source": [
    "## merge 2 dictionaries into one\n",
    "dict1 = {1: 'apple', 2: 'ball'}\n",
    "dict2 = {2: 'ball', 3: 'cat'}\n",
    "dict3 = {**dict1, **dict2} \n",
    "print(dict3)\n"
   ]
  },
  {
   "cell_type": "code",
   "execution_count": null,
   "metadata": {},
   "outputs": [],
   "source": []
  }
 ],
 "metadata": {
  "kernelspec": {
   "display_name": "myenv",
   "language": "python",
   "name": "python3"
  },
  "language_info": {
   "codemirror_mode": {
    "name": "ipython",
    "version": 3
   },
   "file_extension": ".py",
   "mimetype": "text/x-python",
   "name": "python",
   "nbconvert_exporter": "python",
   "pygments_lexer": "ipython3",
   "version": "3.13.1"
  }
 },
 "nbformat": 4,
 "nbformat_minor": 2
}

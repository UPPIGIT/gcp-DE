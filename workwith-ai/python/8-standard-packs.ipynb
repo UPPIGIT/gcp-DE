{
 "cells": [
  {
   "cell_type": "code",
   "execution_count": 1,
   "metadata": {},
   "outputs": [
    {
     "name": "stdout",
     "output_type": "stream",
     "text": [
      "array('i', [1, 1, 12, 4, 5])\n"
     ]
    }
   ],
   "source": [
    "import array\n",
    "print(array.array('i',[1,1,12,4,5]))"
   ]
  },
  {
   "cell_type": "code",
   "execution_count": 3,
   "metadata": {},
   "outputs": [
    {
     "data": {
      "text/plain": [
       "4.0"
      ]
     },
     "execution_count": 3,
     "metadata": {},
     "output_type": "execute_result"
    }
   ],
   "source": [
    "import math\n",
    "math.sqrt(16)"
   ]
  },
  {
   "cell_type": "code",
   "execution_count": 4,
   "metadata": {},
   "outputs": [
    {
     "data": {
      "text/plain": [
       "3.141592653589793"
      ]
     },
     "execution_count": 4,
     "metadata": {},
     "output_type": "execute_result"
    }
   ],
   "source": [
    "math.pi"
   ]
  },
  {
   "cell_type": "code",
   "execution_count": 9,
   "metadata": {},
   "outputs": [
    {
     "name": "stdout",
     "output_type": "stream",
     "text": [
      "2\n",
      "appple\n"
     ]
    }
   ],
   "source": [
    "## random\n",
    "\n",
    "import random\n",
    "print(random.randint(1,10))\n",
    "print(random.choice([\"appple\",\"banana\",'cherry']))"
   ]
  },
  {
   "cell_type": "code",
   "execution_count": 10,
   "metadata": {},
   "outputs": [
    {
     "name": "stdout",
     "output_type": "stream",
     "text": [
      "d:\\git\\gcp-DE\\workwith-ai\\python\n"
     ]
    }
   ],
   "source": [
    "## os\n",
    "import os\n",
    "print(os.getcwd())"
   ]
  },
  {
   "cell_type": "code",
   "execution_count": 11,
   "metadata": {},
   "outputs": [],
   "source": [
    "os.mkdir(\"testDir\")"
   ]
  },
  {
   "cell_type": "code",
   "execution_count": 12,
   "metadata": {},
   "outputs": [
    {
     "data": {
      "text/plain": [
       "'destination.txt'"
      ]
     },
     "execution_count": 12,
     "metadata": {},
     "output_type": "execute_result"
    }
   ],
   "source": [
    "#High level operations on file\n",
    "import shutil\n",
    "\n",
    "shutil.copy(\"source.txt\",\"destination.txt\")"
   ]
  },
  {
   "cell_type": "code",
   "execution_count": 20,
   "metadata": {},
   "outputs": [
    {
     "name": "stdout",
     "output_type": "stream",
     "text": [
      "{\"name\": \"upender\", \"age\": 36}\n",
      "<class 'str'>\n",
      "{'name': 'upender', 'age': 36}\n",
      "<class 'dict'>\n"
     ]
    }
   ],
   "source": [
    "## Data Serialization\n",
    "import json\n",
    "data ={'name':'upender', 'age':36}\n",
    "json_str=json.dumps(data)\n",
    "print(json_str)\n",
    "print(type(json_str))\n",
    "\n",
    "parsed_data=json.loads(json_str)\n",
    "print(parsed_data)\n",
    "print(type(parsed_data))"
   ]
  },
  {
   "cell_type": "code",
   "execution_count": 24,
   "metadata": {},
   "outputs": [],
   "source": [
    "import csv\n",
    "\n",
    "with open(\"example.csv\", mode='w' , newline='') as file :\n",
    "    writer=csv.writer(file)\n",
    "    writer.writerow(['name', 'age'])\n",
    "    writer.writerow([\"upender\",'36'])\n",
    "\n",
    "\n",
    "\n"
   ]
  },
  {
   "cell_type": "code",
   "execution_count": 25,
   "metadata": {},
   "outputs": [
    {
     "name": "stdout",
     "output_type": "stream",
     "text": [
      "['name', 'age']\n",
      "['upender', '36']\n"
     ]
    }
   ],
   "source": [
    "with open(\"example.csv\", mode='r') as file :\n",
    "    reader = csv.reader(file)\n",
    "    for row in reader:\n",
    "        print(row)"
   ]
  },
  {
   "cell_type": "code",
   "execution_count": 31,
   "metadata": {},
   "outputs": [
    {
     "name": "stdout",
     "output_type": "stream",
     "text": [
      "2025-02-03 11:07:39.713805\n",
      "<class 'datetime.datetime'>\n",
      "2025-02-02 11:07:39.713805\n",
      "<class 'datetime.datetime'>\n"
     ]
    }
   ],
   "source": [
    "from datetime import datetime,timedelta\n",
    "\n",
    "now= datetime.now()\n",
    "print(now)\n",
    "print(type(now))\n",
    "\n",
    "yday = now-timedelta(days=1)\n",
    "print(yday)\n",
    "print(type(yday))"
   ]
  },
  {
   "cell_type": "code",
   "execution_count": 33,
   "metadata": {},
   "outputs": [
    {
     "name": "stdout",
     "output_type": "stream",
     "text": [
      "1738561278.3095913\n"
     ]
    }
   ],
   "source": [
    "import time\n",
    "print(time.time())\n",
    "time.sleep(1)"
   ]
  },
  {
   "cell_type": "code",
   "execution_count": 36,
   "metadata": {},
   "outputs": [
    {
     "name": "stdout",
     "output_type": "stream",
     "text": [
      "2\n"
     ]
    }
   ],
   "source": [
    "import re\n",
    "pattern = r'\\d+'\n",
    "text = \"there are 2 apples and 6 oranges\"\n",
    "match = re.search(pattern, text)\n",
    "if match:\n",
    "\tprint(match.group())\n",
    "else:\n",
    "\tprint(\"No match found\")"
   ]
  },
  {
   "cell_type": "code",
   "execution_count": 37,
   "metadata": {},
   "outputs": [
    {
     "name": "stdout",
     "output_type": "stream",
     "text": [
      "Current date and time: 2025-02-03 11:55:35.457638\n",
      "Date after 5 days: 2025-02-08 11:55:35.457638\n",
      "Date 5 days ago: 2025-01-29 11:55:35.457638\n",
      "Specific date: 2023-10-01 00:00:00\n",
      "Difference between 2023-10-01 00:00:00 and now: -492 days\n"
     ]
    }
   ],
   "source": [
    "from datetime import datetime, timedelta\n",
    "\n",
    "# Get the current date and time\n",
    "now = datetime.now()\n",
    "print(f\"Current date and time: {now}\")\n",
    "\n",
    "# Create a timedelta of 5 days\n",
    "five_days = timedelta(days=5)\n",
    "\n",
    "# Calculate a new date by adding the timedelta to the current date\n",
    "future_date = now + five_days\n",
    "print(f\"Date after 5 days: {future_date}\")\n",
    "\n",
    "# Calculate a new date by subtracting the timedelta from the current date\n",
    "past_date = now - five_days\n",
    "print(f\"Date 5 days ago: {past_date}\")\n",
    "\n",
    "# Create a specific date\n",
    "specific_date = datetime(2023, 10, 1)\n",
    "print(f\"Specific date: {specific_date}\")\n",
    "\n",
    "# Calculate the difference between two dates\n",
    "date_difference = specific_date - now\n",
    "print(f\"Difference between {specific_date} and now: {date_difference.days} days\")\n"
   ]
  },
  {
   "cell_type": "code",
   "execution_count": 3,
   "metadata": {},
   "outputs": [
    {
     "name": "stdout",
     "output_type": "stream",
     "text": [
      "Difference between 2023-10-15 00:00:00 and 2023-10-01 00:00:00: 14 days\n"
     ]
    }
   ],
   "source": [
    "from datetime import datetime\n",
    "# Define two dates\n",
    "date1 = datetime(2023, 10, 1)\n",
    "date2 = datetime(2023, 10, 15)\n",
    "\n",
    "# Calculate the difference between the two dates\n",
    "date_difference = date2 - date1\n",
    "print(f\"Difference between {date2} and {date1}: {date_difference.days} days\")"
   ]
  }
 ],
 "metadata": {
  "kernelspec": {
   "display_name": "myenv",
   "language": "python",
   "name": "python3"
  },
  "language_info": {
   "codemirror_mode": {
    "name": "ipython",
    "version": 3
   },
   "file_extension": ".py",
   "mimetype": "text/x-python",
   "name": "python",
   "nbconvert_exporter": "python",
   "pygments_lexer": "ipython3",
   "version": "3.13.1"
  }
 },
 "nbformat": 4,
 "nbformat_minor": 2
}

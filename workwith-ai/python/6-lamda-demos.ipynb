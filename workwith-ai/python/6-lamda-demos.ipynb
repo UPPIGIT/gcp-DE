{
 "cells": [
  {
   "cell_type": "code",
   "execution_count": 2,
   "metadata": {},
   "outputs": [
    {
     "name": "stdout",
     "output_type": "stream",
     "text": [
      "8\n",
      "30\n"
     ]
    }
   ],
   "source": [
    "# lamda function examples\n",
    "\n",
    "# lambda function to add two numbers\n",
    "add = lambda x, y: x + y\n",
    "print(add(3, 5))\n",
    "print(add(10, 20))"
   ]
  },
  {
   "cell_type": "code",
   "execution_count": 3,
   "metadata": {},
   "outputs": [
    {
     "name": "stdout",
     "output_type": "stream",
     "text": [
      "15\n",
      "200\n"
     ]
    }
   ],
   "source": [
    "# lambda function to multiply two numbers\n",
    "multiply = lambda x, y: x * y\n",
    "print(multiply(3, 5))\n",
    "print(multiply(10, 20))"
   ]
  },
  {
   "cell_type": "code",
   "execution_count": 4,
   "metadata": {},
   "outputs": [
    {
     "name": "stdout",
     "output_type": "stream",
     "text": [
      "9\n",
      "27\n"
     ]
    }
   ],
   "source": [
    "# lambda function to find the square of a number\n",
    "square = lambda x: x * x\n",
    "print(square(3))\n",
    "\n",
    "# lambda function to find the cube of a number\n",
    "cube = lambda x: x * x * x\n",
    "print(cube(3))\n",
    "\n"
   ]
  },
  {
   "cell_type": "code",
   "execution_count": null,
   "metadata": {},
   "outputs": [],
   "source": [
    "\n"
   ]
  },
  {
   "cell_type": "code",
   "execution_count": 6,
   "metadata": {},
   "outputs": [
    {
     "name": "stdout",
     "output_type": "stream",
     "text": [
      "Addition: 8\n",
      "Multiplication: 15\n",
      "Square: 9\n",
      "Cube: 27\n",
      "Is 4 even?: True\n",
      "Maximum of 3 and 5: 5\n",
      "Sorted tuples: [(3, 1), (1, 2), (2, 3), (5, 4)]\n",
      "Even numbers: [2, 4, 6, 8, 10]\n",
      "Squared numbers: [1, 4, 9, 16, 25, 36, 49, 64, 81, 100]\n",
      "Product of all numbers: 3628800\n"
     ]
    }
   ],
   "source": [
    "from functools import reduce\n",
    "\n",
    "# Basic lambda function to add two numbers\n",
    "add = lambda x, y: x + y\n",
    "print(\"Addition:\", add(3, 5))\n",
    "\n",
    "# Lambda function to multiply two numbers\n",
    "multiply = lambda x, y: x * y\n",
    "print(\"Multiplication:\", multiply(3, 5))\n",
    "\n",
    "# Lambda function to find the square of a number\n",
    "square = lambda x: x * x\n",
    "print(\"Square:\", square(3))\n",
    "\n",
    "# Lambda function to find the cube of a number\n",
    "cube = lambda x: x * x * x\n",
    "print(\"Cube:\", cube(3))\n",
    "\n",
    "# Lambda function to check if a number is even\n",
    "is_even = lambda x: x % 2 == 0\n",
    "print(\"Is 4 even?:\", is_even(4))\n",
    "\n",
    "# Lambda function to find the maximum of two numbers\n",
    "maximum = lambda x, y: x if x > y else y\n",
    "print(\"Maximum of 3 and 5:\", maximum(3, 5))\n",
    "\n",
    "# Lambda function to sort a list of tuples based on the second element\n",
    "tuples = [(1, 2), (3, 1), (5, 4), (2, 3)]\n",
    "sorted_tuples = sorted(tuples, key=lambda x: x[1])\n",
    "print(\"Sorted tuples:\", sorted_tuples)\n",
    "\n",
    "# Lambda function to filter even numbers from a list\n",
    "numbers = [1, 2, 3, 4, 5, 6, 7, 8, 9, 10]\n",
    "even_numbers = list(filter(lambda x: x % 2 == 0, numbers))\n",
    "print(\"Even numbers:\", even_numbers)\n",
    "\n",
    "# Lambda function to map a list of numbers to their squares\n",
    "squared_numbers = list(map(lambda x: x * x, numbers))\n",
    "print(\"Squared numbers:\", squared_numbers)\n",
    "\n",
    "# Advanced: Lambda function to reduce a list to the product of its elements\n",
    "product = reduce(lambda x, y: x * y, numbers)\n",
    "print(\"Product of all numbers:\", product)"
   ]
  },
  {
   "cell_type": "code",
   "execution_count": 7,
   "metadata": {},
   "outputs": [
    {
     "name": "stdout",
     "output_type": "stream",
     "text": [
      "[1, 4, 9, 16, 25]\n"
     ]
    }
   ],
   "source": [
    "# map example\n",
    "numbers = [1, 2, 3, 4, 5]\n",
    "squared_numbers = list(map(lambda x: x * x, numbers))\n",
    "print(squared_numbers)"
   ]
  },
  {
   "cell_type": "code",
   "execution_count": 8,
   "metadata": {},
   "outputs": [
    {
     "name": "stdout",
     "output_type": "stream",
     "text": [
      "[7, 9, 11, 13, 15]\n"
     ]
    }
   ],
   "source": [
    "#map example with multiple lists\n",
    "numbers1 = [1, 2, 3, 4, 5]\n",
    "numbers2 = [6, 7, 8, 9, 10]\n",
    "sums = list(map(lambda x, y: x + y, numbers1, numbers2))\n",
    "print(sums)"
   ]
  },
  {
   "cell_type": "code",
   "execution_count": 9,
   "metadata": {},
   "outputs": [
    {
     "name": "stdout",
     "output_type": "stream",
     "text": [
      "[7, 9, 11]\n"
     ]
    }
   ],
   "source": [
    "#map example with multiple lists of different lengths\n",
    "numbers1 = [1, 2, 3, 4, 5]\n",
    "numbers2 = [6, 7, 8]\n",
    "sums = list(map(lambda x, y: x + y, numbers1, numbers2))\n",
    "print(sums)"
   ]
  },
  {
   "cell_type": "code",
   "execution_count": 10,
   "metadata": {},
   "outputs": [
    {
     "name": "stdout",
     "output_type": "stream",
     "text": [
      "9\n"
     ]
    }
   ],
   "source": [
    "# call a function lambda function\n",
    "def call_function(f, x):\n",
    "    return f(x)\n",
    "\n",
    "result = call_function(lambda x: x * x, 3)\n",
    "print(result)"
   ]
  },
  {
   "cell_type": "code",
   "execution_count": 11,
   "metadata": {},
   "outputs": [
    {
     "name": "stdout",
     "output_type": "stream",
     "text": [
      "[(3, 1), (1, 2), (2, 3), (5, 4)]\n"
     ]
    }
   ],
   "source": [
    "# use lambda function as a key in sorted\n",
    "tuples = [(1, 2), (3, 1), (5, 4), (2, 3)]\n",
    "sorted_tuples = sorted(tuples, key=lambda x: x[1])\n",
    "print(sorted_tuples)"
   ]
  },
  {
   "cell_type": "code",
   "execution_count": 12,
   "metadata": {},
   "outputs": [
    {
     "name": "stdout",
     "output_type": "stream",
     "text": [
      "8\n"
     ]
    }
   ],
   "source": [
    "## call other functions from lambda function\n",
    "def add(x, y):\n",
    "    return x + y\n",
    "\n",
    "def multiply(x, y):\n",
    "    return x * y\n",
    "\n",
    "def apply_function(f, x, y):\n",
    "    return f(x, y)\n",
    "\n",
    "result = apply_function(add, 3, 5)  # 3 + 5 = 8\n",
    "print(result)"
   ]
  },
  {
   "cell_type": "code",
   "execution_count": 14,
   "metadata": {},
   "outputs": [
    {
     "name": "stdout",
     "output_type": "stream",
     "text": [
      "[12, 15, 18]\n"
     ]
    }
   ],
   "source": [
    "#map multiple iterables\n",
    "numbers1 = [1, 2, 3]\n",
    "numbers2 = [4, 5, 6]\n",
    "numbers3 = [7, 8, 9]\n",
    "\n",
    "sums = list(map(lambda x, y, z: x + y + z, numbers1, numbers2, numbers3))\n",
    "print(sums)"
   ]
  },
  {
   "cell_type": "code",
   "execution_count": 15,
   "metadata": {},
   "outputs": [
    {
     "name": "stdout",
     "output_type": "stream",
     "text": [
      "[1, 2, 3, 4, 5]\n"
     ]
    }
   ],
   "source": [
    "# map to conver a list of strings to integers\n",
    "strings = [\"1\", \"2\", \"3\", \"4\", \"5\"]\n",
    "numbers = list(map(int, strings))\n",
    "print(numbers)"
   ]
  },
  {
   "cell_type": "code",
   "execution_count": 16,
   "metadata": {},
   "outputs": [
    {
     "name": "stdout",
     "output_type": "stream",
     "text": [
      "['APPLE', 'BANANA', 'CHERRY']\n"
     ]
    }
   ],
   "source": [
    "words = [\"apple\", \"banana\", \"cherry\"]\n",
    "uppercase_words = list(map(lambda x: x.upper(), words))\n",
    "print(uppercase_words)"
   ]
  },
  {
   "cell_type": "code",
   "execution_count": 17,
   "metadata": {},
   "outputs": [
    {
     "name": "stdout",
     "output_type": "stream",
     "text": [
      "[8.5, 17.0, 25.5, 34.0, 42.5]\n"
     ]
    }
   ],
   "source": [
    "usd_prices = [10, 20, 30, 40, 50]\n",
    "exchange_rate = 0.85  # 1 USD = 0.85 EUR\n",
    "\n",
    "eur_prices = list(map(lambda x: round(x * exchange_rate, 2), usd_prices))\n",
    "print(eur_prices)  # Output: [8.5, 17.0, 25.5, 34.0, 42.5]\n"
   ]
  },
  {
   "cell_type": "code",
   "execution_count": 21,
   "metadata": {},
   "outputs": [
    {
     "name": "stdout",
     "output_type": "stream",
     "text": [
      "['example.com', 'gmail.com', 'yahoo.com']\n"
     ]
    }
   ],
   "source": [
    "emails = [\"john@example.com\", \"alice@gmail.com\", \"bob@yahoo.com\"]\n",
    "domains = list(map(lambda email: email.split('@')[1], emails))\n",
    "\n",
    "print(domains)  # Output: ['example.com', 'gmail.com', 'yahoo.com']\n"
   ]
  },
  {
   "cell_type": "code",
   "execution_count": 22,
   "metadata": {},
   "outputs": [
    {
     "name": "stdout",
     "output_type": "stream",
     "text": [
      "['2024-01-02', '2023-15-12', '2022-04-07']\n"
     ]
    }
   ],
   "source": [
    "dates = [\"02/01/2024\", \"12/15/2023\", \"07/04/2022\"]\n",
    "formatted_dates = list(map(lambda d: \"-\".join(d.split(\"/\")[::-1]), dates))\n",
    "\n",
    "print(formatted_dates)  # Output: ['2024-01-02', '2023-12-15', '2022-04-07']\n"
   ]
  },
  {
   "cell_type": "code",
   "execution_count": 23,
   "metadata": {},
   "outputs": [
    {
     "name": "stdout",
     "output_type": "stream",
     "text": [
      "['**** **** **** 5678', '**** **** **** 7654', '**** **** **** 8888']\n"
     ]
    }
   ],
   "source": [
    "card_numbers = [\"1234567812345678\", \"9876543210987654\", \"5555666677778888\"]\n",
    "masked_cards = list(map(lambda x: \"**** **** **** \" + x[-4:], card_numbers))\n",
    "\n",
    "print(masked_cards)  # Output: ['**** **** **** 5678', '**** **** **** 7654', '**** **** **** 8888']\n"
   ]
  },
  {
   "cell_type": "code",
   "execution_count": 24,
   "metadata": {},
   "outputs": [
    {
     "name": "stdout",
     "output_type": "stream",
     "text": [
      "['python-basics-for-beginners', '10-best-travel-destinations', 'how-to-invest-in-stocks']\n"
     ]
    }
   ],
   "source": [
    "titles = [\"Python Basics for Beginners\", \"10 Best Travel Destinations\", \"How to Invest in Stocks\"]\n",
    "slugs = list(map(lambda title: title.lower().replace(\" \", \"-\"), titles))\n",
    "\n",
    "print(slugs)  \n",
    "# Output: ['python-basics-for-beginners', '10-best-travel-destinations', 'how-to-invest-in-stocks']\n"
   ]
  },
  {
   "cell_type": "code",
   "execution_count": 25,
   "metadata": {},
   "outputs": [
    {
     "name": "stdout",
     "output_type": "stream",
     "text": [
      "['John Doe', 'Alice Smith', 'Robert Brown']\n"
     ]
    }
   ],
   "source": [
    "names = [\"john doe\", \"ALICE SMITH\", \"robert brown\"]\n",
    "normalized_names = list(map(lambda name: name.title(), names))\n",
    "\n",
    "print(normalized_names)  # Output: ['John Doe', 'Alice Smith', 'Robert Brown']\n"
   ]
  },
  {
   "cell_type": "code",
   "execution_count": 26,
   "metadata": {},
   "outputs": [
    {
     "name": "stdout",
     "output_type": "stream",
     "text": [
      "[5000.0, 6000.0, 7500.0, 9000.0]\n"
     ]
    }
   ],
   "source": [
    "salaries = [50000, 60000, 75000, 90000]\n",
    "bonus_percentage = 0.10  # 10% bonus\n",
    "\n",
    "bonuses = list(map(lambda salary: salary * bonus_percentage, salaries))\n",
    "\n",
    "print(bonuses)  # Output: [5000.0, 6000.0, 7500.0, 9000.0]\n"
   ]
  },
  {
   "cell_type": "code",
   "execution_count": 27,
   "metadata": {},
   "outputs": [
    {
     "name": "stdout",
     "output_type": "stream",
     "text": [
      "['Laptop', 'Smartphone', 'Tablet', 'Headphones']\n"
     ]
    }
   ],
   "source": [
    "products = [\"   Laptop  \", \"Smartphone \", \"  Tablet\", \" Headphones  \"]\n",
    "cleaned_products = list(map(lambda p: p.strip(), products))\n",
    "\n",
    "print(cleaned_products)  # Output: ['Laptop', 'Smartphone', 'Tablet', 'Headphones']\n"
   ]
  },
  {
   "cell_type": "code",
   "execution_count": 28,
   "metadata": {},
   "outputs": [
    {
     "name": "stdout",
     "output_type": "stream",
     "text": [
      "[{'name': 'John', 'active': True}, {'name': 'Bob', 'active': True}]\n"
     ]
    }
   ],
   "source": [
    "users = [\n",
    "    {\"name\": \"John\", \"active\": True},\n",
    "    {\"name\": \"Alice\", \"active\": False},\n",
    "    {\"name\": \"Bob\", \"active\": True},\n",
    "    {\"name\": \"Eve\", \"active\": False}\n",
    "]\n",
    "\n",
    "active_users = list(filter(lambda user: user[\"active\"], users))\n",
    "\n",
    "print(active_users)  \n",
    "# Output: [{'name': 'John', 'active': True}, {'name': 'Bob', 'active': True}]\n"
   ]
  },
  {
   "cell_type": "code",
   "execution_count": 29,
   "metadata": {},
   "outputs": [
    {
     "name": "stdout",
     "output_type": "stream",
     "text": [
      "[10, 20, 30]\n"
     ]
    }
   ],
   "source": [
    "numbers = [10, 15, 20, 25, 30, 35]\n",
    "even_numbers = list(filter(lambda x: x % 2 == 0, numbers))\n",
    "\n",
    "print(even_numbers)  # Output: [10, 20, 30]\n"
   ]
  },
  {
   "cell_type": "code",
   "execution_count": 30,
   "metadata": {},
   "outputs": [
    {
     "name": "stdout",
     "output_type": "stream",
     "text": [
      "[{'name': 'Laptop', 'stock': 10}, {'name': 'Tablet', 'stock': 5}]\n"
     ]
    }
   ],
   "source": [
    "products = [\n",
    "    {\"name\": \"Laptop\", \"stock\": 10},\n",
    "    {\"name\": \"Phone\", \"stock\": 0},\n",
    "    {\"name\": \"Tablet\", \"stock\": 5},\n",
    "    {\"name\": \"Headphones\", \"stock\": 0}\n",
    "]\n",
    "\n",
    "in_stock_products = list(filter(lambda product: product[\"stock\"] > 0, products))\n",
    "\n",
    "print(in_stock_products)  \n",
    "# Output: [{'name': 'Laptop', 'stock': 10}, {'name': 'Tablet', 'stock': 5}]\n"
   ]
  },
  {
   "cell_type": "code",
   "execution_count": 31,
   "metadata": {},
   "outputs": [
    {
     "name": "stdout",
     "output_type": "stream",
     "text": [
      "['hello@example.com', 'contact@company.com']\n"
     ]
    }
   ],
   "source": [
    "emails = [\"hello@example.com\", \"spam@junk.com\", \"contact@company.com\", \"offer@spam.com\"]\n",
    "blacklist = [\"spam.com\", \"junk.com\"]\n",
    "\n",
    "valid_emails = list(filter(lambda email: not any(domain in email for domain in blacklist), emails))\n",
    "\n",
    "print(valid_emails)  \n",
    "# Output: ['hello@example.com', 'contact@company.com']\n"
   ]
  },
  {
   "cell_type": "code",
   "execution_count": 32,
   "metadata": {},
   "outputs": [
    {
     "name": "stdout",
     "output_type": "stream",
     "text": [
      "[{'task': 'Submit report', 'priority': 'High'}, {'task': 'Fix bug', 'priority': 'High'}]\n"
     ]
    }
   ],
   "source": [
    "tasks = [\n",
    "    {\"task\": \"Submit report\", \"priority\": \"High\"},\n",
    "    {\"task\": \"Check emails\", \"priority\": \"Low\"},\n",
    "    {\"task\": \"Fix bug\", \"priority\": \"High\"},\n",
    "    {\"task\": \"Schedule meeting\", \"priority\": \"Medium\"}\n",
    "]\n",
    "\n",
    "high_priority_tasks = list(filter(lambda task: task[\"priority\"] == \"High\", tasks))\n",
    "\n",
    "print(high_priority_tasks)  \n",
    "# Output: [{'task': 'Submit report', 'priority': 'High'}, {'task': 'Fix bug', 'priority': 'High'}]\n"
   ]
  },
  {
   "cell_type": "code",
   "execution_count": 33,
   "metadata": {},
   "outputs": [
    {
     "name": "stdout",
     "output_type": "stream",
     "text": [
      "['racecar', 'madam', 'level']\n"
     ]
    }
   ],
   "source": [
    "words = [\"racecar\", \"hello\", \"madam\", \"world\", \"level\"]\n",
    "palindromes = list(filter(lambda word: word == word[::-1], words))\n",
    "\n",
    "print(palindromes)  # Output: ['racecar', 'madam', 'level']\n"
   ]
  },
  {
   "cell_type": "code",
   "execution_count": 34,
   "metadata": {},
   "outputs": [
    {
     "name": "stdout",
     "output_type": "stream",
     "text": [
      "[{'name': 'Alice', 'age': 22}, {'name': 'Charlie', 'age': 19}]\n"
     ]
    }
   ],
   "source": [
    "people = [\n",
    "    {\"name\": \"Tom\", \"age\": 17},\n",
    "    {\"name\": \"Alice\", \"age\": 22},\n",
    "    {\"name\": \"Bob\", \"age\": 15},\n",
    "    {\"name\": \"Charlie\", \"age\": 19}\n",
    "]\n",
    "\n",
    "adults = list(filter(lambda person: person[\"age\"] >= 18, people))\n",
    "\n",
    "print(adults)  \n",
    "# Output: [{'name': 'Alice', 'age': 22}, {'name': 'Charlie', 'age': 19}]\n"
   ]
  },
  {
   "cell_type": "code",
   "execution_count": 35,
   "metadata": {},
   "outputs": [
    {
     "name": "stdout",
     "output_type": "stream",
     "text": [
      "[{'name': 'Alice', 'balance_due': 50}, {'name': 'Bob', 'balance_due': 100}]\n"
     ]
    }
   ],
   "source": [
    "customers = [\n",
    "    {\"name\": \"John\", \"balance_due\": 0},\n",
    "    {\"name\": \"Alice\", \"balance_due\": 50},\n",
    "    {\"name\": \"Bob\", \"balance_due\": 100},\n",
    "    {\"name\": \"Eve\", \"balance_due\": 0}\n",
    "]\n",
    "\n",
    "def has_due_balance(customer):\n",
    "    return customer[\"balance_due\"] > 0\n",
    "\n",
    "customers_with_due = list(filter(has_due_balance, customers))\n",
    "\n",
    "print(customers_with_due)  \n",
    "# Output: [{'name': 'Alice', 'balance_due': 50}, {'name': 'Bob', 'balance_due': 100}]\n"
   ]
  }
 ],
 "metadata": {
  "kernelspec": {
   "display_name": "myenv",
   "language": "python",
   "name": "python3"
  },
  "language_info": {
   "codemirror_mode": {
    "name": "ipython",
    "version": 3
   },
   "file_extension": ".py",
   "mimetype": "text/x-python",
   "name": "python",
   "nbconvert_exporter": "python",
   "pygments_lexer": "ipython3",
   "version": "3.13.1"
  }
 },
 "nbformat": 4,
 "nbformat_minor": 2
}

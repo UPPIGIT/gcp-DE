{
 "cells": [
  {
   "cell_type": "markdown",
   "metadata": {},
   "source": [
    "### tuples demo\n"
   ]
  },
  {
   "cell_type": "code",
   "execution_count": 3,
   "metadata": {},
   "outputs": [
    {
     "name": "stdout",
     "output_type": "stream",
     "text": [
      "()\n",
      "()\n",
      "<class 'tuple'>\n"
     ]
    }
   ],
   "source": [
    "# empty tuple\n",
    "empty_tuple = ()\n",
    "print(empty_tuple)\n",
    "\n",
    "# other way to create empty tuple\n",
    "empty_tuple = tuple()\n",
    "print(empty_tuple)\n",
    "print(type(empty_tuple))\n"
   ]
  },
  {
   "cell_type": "code",
   "execution_count": 4,
   "metadata": {},
   "outputs": [
    {
     "name": "stdout",
     "output_type": "stream",
     "text": [
      "(1,)\n"
     ]
    }
   ],
   "source": [
    "# creare tuple with single element\n",
    "single_tuple = (1,)\n",
    "print(single_tuple)"
   ]
  },
  {
   "cell_type": "code",
   "execution_count": 5,
   "metadata": {},
   "outputs": [
    {
     "name": "stdout",
     "output_type": "stream",
     "text": [
      "(1, 2, 3)\n"
     ]
    }
   ],
   "source": [
    "# from list to tuple\n",
    "list1 = [1, 2, 3]   # list\n",
    "tuple1 = tuple(list1)   # tuple\n",
    "print(tuple1)"
   ]
  },
  {
   "cell_type": "code",
   "execution_count": 6,
   "metadata": {},
   "outputs": [
    {
     "name": "stdout",
     "output_type": "stream",
     "text": [
      "(1, 'hello', 3.4)\n"
     ]
    }
   ],
   "source": [
    "# tuple with multiple data types\n",
    "tuple2 = (1, 'hello', 3.4)\n",
    "print(tuple2)"
   ]
  },
  {
   "cell_type": "code",
   "execution_count": 7,
   "metadata": {},
   "outputs": [
    {
     "name": "stdout",
     "output_type": "stream",
     "text": [
      "(1, (2, 3, 4), [5, 6, 7])\n"
     ]
    }
   ],
   "source": [
    "# nested tuple\n",
    "tuple3 = (1, (2, 3, 4), [5, 6, 7])\n",
    "print(tuple3)"
   ]
  },
  {
   "cell_type": "code",
   "execution_count": 8,
   "metadata": {},
   "outputs": [
    {
     "name": "stdout",
     "output_type": "stream",
     "text": [
      "1\n",
      "2\n",
      "3\n"
     ]
    }
   ],
   "source": [
    "# tuple unpacking\n",
    "tuple4 = (1, 2, 3)\n",
    "a, b, c = tuple4\n",
    "print(a)\n",
    "print(b)\n",
    "print(c)\n"
   ]
  },
  {
   "cell_type": "code",
   "execution_count": 9,
   "metadata": {},
   "outputs": [
    {
     "name": "stdout",
     "output_type": "stream",
     "text": [
      "(1, 2, 3, 4, 5, 6)\n"
     ]
    }
   ],
   "source": [
    "# tuple with + operator\n",
    "tuple5 = (1, 2, 3) + (4, 5, 6)\n",
    "print(tuple5)\n"
   ]
  },
  {
   "cell_type": "code",
   "execution_count": 10,
   "metadata": {},
   "outputs": [
    {
     "name": "stdout",
     "output_type": "stream",
     "text": [
      "(1, 2, 3, 4, 5, 6, 7, 8, 9, 10, 'a', 'b', 'c', 'd', 'e', 'f', 'g', 'h', 'i', 'j')\n"
     ]
    }
   ],
   "source": [
    "num_tuple = (1, 2, 3, 4, 5, 6, 7, 8, 9, 10)\n",
    "mixed_tuple = ('a', 'b', 'c', 'd', 'e', 'f', 'g', 'h', 'i', 'j')\n",
    "num_tuple = num_tuple + mixed_tuple\n",
    "print(num_tuple)\n"
   ]
  },
  {
   "cell_type": "code",
   "execution_count": 11,
   "metadata": {},
   "outputs": [
    {
     "name": "stdout",
     "output_type": "stream",
     "text": [
      "3\n"
     ]
    }
   ],
   "source": [
    "# operations on tuple\n",
    "# count() method    \n",
    "tuple6 = (1, 2, 3, 4, 1, 1, 2)\n",
    "print(tuple6.count(1))\n"
   ]
  },
  {
   "cell_type": "code",
   "execution_count": 12,
   "metadata": {},
   "outputs": [
    {
     "name": "stdout",
     "output_type": "stream",
     "text": [
      "4\n"
     ]
    }
   ],
   "source": [
    "# index() method\n",
    "tuple7 = (1, 2, 3, 4, 5, 6, 7)\n",
    "print(tuple7.index(5))"
   ]
  },
  {
   "cell_type": "code",
   "execution_count": 13,
   "metadata": {},
   "outputs": [
    {
     "name": "stdout",
     "output_type": "stream",
     "text": [
      "7\n"
     ]
    }
   ],
   "source": [
    "# len() method\n",
    "print(len(tuple7))"
   ]
  },
  {
   "cell_type": "code",
   "execution_count": 14,
   "metadata": {},
   "outputs": [
    {
     "name": "stdout",
     "output_type": "stream",
     "text": [
      "(2, 3, 4, 5)\n"
     ]
    }
   ],
   "source": [
    "# slicing\n",
    "tuple8 = (1, 2, 3, 4, 5, 6, 7)\n",
    "print(tuple8[1:5])\n"
   ]
  },
  {
   "cell_type": "code",
   "execution_count": 16,
   "metadata": {},
   "outputs": [
    {
     "ename": "NameError",
     "evalue": "name 'tuple9' is not defined",
     "output_type": "error",
     "traceback": [
      "\u001b[1;31m---------------------------------------------------------------------------\u001b[0m",
      "\u001b[1;31mNameError\u001b[0m                                 Traceback (most recent call last)",
      "Cell \u001b[1;32mIn[16], line 4\u001b[0m\n\u001b[0;32m      2\u001b[0m tuple9 \u001b[38;5;241m=\u001b[39m (\u001b[38;5;241m1\u001b[39m, \u001b[38;5;241m2\u001b[39m, \u001b[38;5;241m3\u001b[39m, \u001b[38;5;241m4\u001b[39m, \u001b[38;5;241m5\u001b[39m, \u001b[38;5;241m6\u001b[39m, \u001b[38;5;241m7\u001b[39m)\n\u001b[0;32m      3\u001b[0m \u001b[38;5;28;01mdel\u001b[39;00m tuple9\n\u001b[1;32m----> 4\u001b[0m \u001b[38;5;28mprint\u001b[39m(\u001b[43mtuple9\u001b[49m)   \u001b[38;5;66;03m# NameError: name 'tuple9' is not defined\u001b[39;00m\n",
      "\u001b[1;31mNameError\u001b[0m: name 'tuple9' is not defined"
     ]
    }
   ],
   "source": [
    "# delete tuple\n",
    "tuple9 = (1, 2, 3, 4, 5, 6, 7)\n",
    "del tuple9\n",
    "print(tuple9)   # NameError: name 'tuple9' is not defined"
   ]
  },
  {
   "cell_type": "code",
   "execution_count": 18,
   "metadata": {},
   "outputs": [
    {
     "name": "stdout",
     "output_type": "stream",
     "text": [
      "1\n",
      "2\n",
      "3\n",
      "4\n",
      "5\n",
      "6\n",
      "7\n"
     ]
    }
   ],
   "source": [
    "# tuple with for loop  \n",
    "tuple10 = (1, 2, 3, 4, 5, 6, 7)\n",
    "for i in tuple10:\n",
    "    print(i)"
   ]
  },
  {
   "cell_type": "code",
   "execution_count": 19,
   "metadata": {},
   "outputs": [
    {
     "name": "stdout",
     "output_type": "stream",
     "text": [
      "1\n",
      "2\n",
      "3\n",
      "4\n",
      "5\n",
      "6\n",
      "7\n"
     ]
    }
   ],
   "source": [
    "# tuple with while loop\n",
    "i = 0\n",
    "while i < len(tuple10):\n",
    "    print(tuple10[i])\n",
    "    i += 1\n"
   ]
  },
  {
   "cell_type": "code",
   "execution_count": 20,
   "metadata": {},
   "outputs": [
    {
     "name": "stdout",
     "output_type": "stream",
     "text": [
      "1 is present in tuple10\n"
     ]
    }
   ],
   "source": [
    "# tuple with if else\n",
    "if 1 in tuple10:\n",
    "    print('1 is present in tuple10')"
   ]
  },
  {
   "cell_type": "code",
   "execution_count": 22,
   "metadata": {},
   "outputs": [],
   "source": [
    "# tuple with if else\n",
    "if 10 in tuple10:\n",
    "    print('10 is present in tuple10')"
   ]
  },
  {
   "cell_type": "code",
   "execution_count": 24,
   "metadata": {},
   "outputs": [
    {
     "name": "stdout",
     "output_type": "stream",
     "text": [
      "(1, 2, 3, 4, 5)\n",
      "1\n",
      "2\n",
      "3\n"
     ]
    }
   ],
   "source": [
    "# packing and unpacking in tuple\n",
    "# packing\n",
    "tuple11 = 1, 2, 3, 4, 5\n",
    "print(tuple11)\n",
    "\n",
    "# unpacking\n",
    "a, b, c, d, e = tuple11\n",
    "print(a)\n",
    "print(b)\n",
    "print(c)\n"
   ]
  },
  {
   "cell_type": "code",
   "execution_count": 25,
   "metadata": {},
   "outputs": [
    {
     "name": "stdout",
     "output_type": "stream",
     "text": [
      "1\n",
      "7\n"
     ]
    }
   ],
   "source": [
    "# tuple with min() and max() method\n",
    "tuple12 = (1, 2, 3, 4, 5, 6, 7)\n",
    "print(min(tuple12))\n",
    "print(max(tuple12))\n"
   ]
  },
  {
   "cell_type": "code",
   "execution_count": 26,
   "metadata": {},
   "outputs": [
    {
     "name": "stdout",
     "output_type": "stream",
     "text": [
      "28\n"
     ]
    }
   ],
   "source": [
    "# tuple with sum() method\n",
    "tuple13 = (1, 2, 3, 4, 5, 6, 7)\n",
    "print(sum(tuple13))"
   ]
  },
  {
   "cell_type": "code",
   "execution_count": 28,
   "metadata": {},
   "outputs": [
    {
     "name": "stdout",
     "output_type": "stream",
     "text": [
      "1\n",
      "[2, 3, 4]\n",
      "5\n"
     ]
    }
   ],
   "source": [
    "#unpacking with * operator\n",
    "tuple14 = (1, 2, 3, 4, 5)\n",
    "a, *b, c = tuple14\n",
    "print(a)\n",
    "print(b)\n",
    "print(c)"
   ]
  },
  {
   "cell_type": "code",
   "execution_count": 32,
   "metadata": {},
   "outputs": [
    {
     "name": "stdout",
     "output_type": "stream",
     "text": [
      "[1, 2, 3, 4, 5, 6]\n",
      "[6, 5, 4, 3, 2, 1]\n",
      "True\n",
      "True\n"
     ]
    }
   ],
   "source": [
    "# tuple with sorted() method\n",
    "tuple15 = (4, 3, 2, 1, 5, 6)\n",
    "print(sorted(tuple15))\n",
    "\n",
    "# tuple with reversed() method\n",
    "tuple16 = (1, 2, 3, 4, 5, 6)\n",
    "print(list(reversed(tuple16)))\n",
    "\n",
    "# tuple with any() method\n",
    "tuple17 = (0, 0, 0, 0, 0, 1)\n",
    "print(any(tuple17))\n",
    "\n",
    "# tuple with all() method\n",
    "tuple18 = (1, 1, 1, 1, 1, 1)\n",
    "print(all(tuple18))\n",
    "\n"
   ]
  },
  {
   "cell_type": "code",
   "execution_count": 33,
   "metadata": {},
   "outputs": [
    {
     "name": "stdout",
     "output_type": "stream",
     "text": [
      "(1, 2, 3, [4, 5, 6])\n"
     ]
    }
   ],
   "source": [
    "# nested list to tuple\n",
    "list2 = [1, 2, 3, [4, 5, 6]]\n",
    "tuple19 = tuple(list2)\n",
    "print(tuple19)"
   ]
  },
  {
   "cell_type": "code",
   "execution_count": 34,
   "metadata": {},
   "outputs": [
    {
     "name": "stdout",
     "output_type": "stream",
     "text": [
      "[1, 2, 3, (4, 5, 6)]\n"
     ]
    }
   ],
   "source": [
    "#nested tuple to list\n",
    "tuple20 = (1, 2, 3, (4, 5, 6))\n",
    "list3 = list(tuple20)\n",
    "print(list3)"
   ]
  },
  {
   "cell_type": "code",
   "execution_count": 36,
   "metadata": {},
   "outputs": [
    {
     "name": "stdout",
     "output_type": "stream",
     "text": [
      "5\n",
      "6\n"
     ]
    }
   ],
   "source": [
    "# access nested tuple\n",
    "tuple21 = (1, 2, 3, (4, 5, 6))\n",
    "print(tuple21[3][1])\n",
    "print(tuple21[3][2])"
   ]
  },
  {
   "cell_type": "code",
   "execution_count": 43,
   "metadata": {},
   "outputs": [
    {
     "name": "stdout",
     "output_type": "stream",
     "text": [
      "[1, 2, 3, 4, 5, 6]\n",
      "[6, 5, 4, 3, 2, 1]\n",
      "True\n",
      "True\n",
      "[(1, 'a'), (2, 'b'), (3, 'c'), (4, 'd'), (5, 'e')]\n",
      "[(0, 1), (1, 2), (2, 3), (3, 4), (4, 5)]\n",
      "[2, 4, 6, 8, 10]\n",
      "[1, 4, 9, 16, 25]\n",
      "15\n",
      "[1, 2, 3, 4, 5]\n",
      "{1, 2, 3, 4, 5}\n",
      "{1: 1, 2: 4, 3: 9, 4: 16, 5: 25}\n",
      "<generator object <genexpr> at 0x0000019DAD24FD00>\n"
     ]
    }
   ],
   "source": [
    "# tuple with sorted() method\n",
    "tuple22 = (4, 3, 2, 1, 5, 6)\n",
    "print(sorted(tuple22))\n",
    "\n",
    "# tuple with reversed() method\n",
    "tuple23 = (1, 2, 3, 4, 5, 6)\n",
    "print(list(reversed(tuple23)))\n",
    "\n",
    "# tuple with any() method\n",
    "tuple24 = (0, 0, 0, 0, 0, 1)\n",
    "print(any(tuple24))\n",
    "\n",
    "# tuple with all() method\n",
    "tuple25 = (1, 1, 1, 1, 1, 1)\n",
    "print(all(tuple25))\n",
    "\n",
    "# tuple with zip() method\n",
    "tuple26 = (1, 2, 3, 4, 5)\n",
    "tuple27 = ('a', 'b', 'c', 'd', 'e')\n",
    "print(list(zip(tuple26, tuple27)))\n",
    "\n",
    "# tuple with enumerate() method\n",
    "tuple28 = (1, 2, 3, 4, 5)\n",
    "print(list(enumerate(tuple28)))\n",
    "\n",
    "# tuple with filter() method\n",
    "tuple29 = (1, 2, 3, 4, 5, 6, 7, 8, 9, 10)\n",
    "print(list(filter(lambda x: x % 2 == 0, tuple29)))\n",
    "\n",
    "# tuple with map() method\n",
    "tuple30 = (1, 2, 3, 4, 5)\n",
    "print(list(map(lambda x: x * x, tuple30)))\n",
    "\n",
    "# tuple with reduce() method\n",
    "from functools import reduce\n",
    "tuple31 = (1, 2, 3, 4, 5)\n",
    "print(reduce(lambda x, y: x + y, tuple31))\n",
    "\n",
    "# tuple with list comprehension\n",
    "tuple32 = (1, 2, 3, 4, 5)\n",
    "print([i for i in tuple32])\n",
    "\n",
    "# tuple with set comprehension\n",
    "tuple33 = (1, 2, 3, 4, 5)\n",
    "print({i for i in tuple33})\n",
    "\n",
    "# tuple with dictionary comprehension\n",
    "tuple34 = (1, 2, 3, 4, 5)\n",
    "print({i: i * i for i in tuple34})\n",
    "\n",
    "\n",
    "\n",
    "\n",
    "\n"
   ]
  },
  {
   "cell_type": "code",
   "execution_count": null,
   "metadata": {},
   "outputs": [],
   "source": []
  }
 ],
 "metadata": {
  "kernelspec": {
   "display_name": "myenv",
   "language": "python",
   "name": "python3"
  },
  "language_info": {
   "codemirror_mode": {
    "name": "ipython",
    "version": 3
   },
   "file_extension": ".py",
   "mimetype": "text/x-python",
   "name": "python",
   "nbconvert_exporter": "python",
   "pygments_lexer": "ipython3",
   "version": "3.13.1"
  }
 },
 "nbformat": 4,
 "nbformat_minor": 2
}

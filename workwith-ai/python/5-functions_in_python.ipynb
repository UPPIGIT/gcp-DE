{
 "cells": [
  {
   "cell_type": "markdown",
   "metadata": {},
   "source": [
    "1. Introduction to functions\n",
    "2. Defining functions\n",
    "3. Calling fucntions\n",
    "4. Funcation Parameters\n",
    "5. Default Parameters\n",
    "6. Variable-Length arguments\n",
    "7. Retun Statements"
   ]
  },
  {
   "cell_type": "code",
   "execution_count": 1,
   "metadata": {},
   "outputs": [],
   "source": [
    "## functions syntax\n",
    "def my_function():\n",
    "    print(\"Hello from a function\")\n",
    "    "
   ]
  },
  {
   "cell_type": "code",
   "execution_count": 2,
   "metadata": {},
   "outputs": [
    {
     "name": "stdout",
     "output_type": "stream",
     "text": [
      "Hello from a function\n"
     ]
    }
   ],
   "source": [
    "## function call\n",
    "my_function()"
   ]
  },
  {
   "cell_type": "code",
   "execution_count": 4,
   "metadata": {},
   "outputs": [],
   "source": [
    "## function with arguments\n",
    "def my_function_with_args(username, greeting):\n",
    "    print(f\"Hello, {username} , from a function, I wish you {greeting}\")\n"
   ]
  },
  {
   "cell_type": "code",
   "execution_count": 5,
   "metadata": {},
   "outputs": [
    {
     "name": "stdout",
     "output_type": "stream",
     "text": [
      "Hello, John Doe , from a function, I wish you a great year!\n"
     ]
    }
   ],
   "source": [
    "## function call\n",
    "my_function_with_args(\"John Doe\", \"a great year!\")\n"
   ]
  },
  {
   "cell_type": "code",
   "execution_count": 6,
   "metadata": {},
   "outputs": [],
   "source": [
    "## doc strings\n",
    "def print_max(a, b):\n",
    "    '''Prints the maximum of two numbers.\n",
    "    \n",
    "    The two values must be integers.'''\n",
    "    if a > b:\n",
    "        print(a, 'is maximum')\n",
    "    elif a == b:\n",
    "        print(a, 'is equal to', b)\n",
    "    else:\n",
    "        print(b, 'is maximum')"
   ]
  },
  {
   "cell_type": "code",
   "execution_count": 7,
   "metadata": {},
   "outputs": [
    {
     "name": "stdout",
     "output_type": "stream",
     "text": [
      "4 is maximum\n"
     ]
    }
   ],
   "source": [
    "## function call\n",
    "print_max(3, 4)"
   ]
  },
  {
   "cell_type": "code",
   "execution_count": 8,
   "metadata": {},
   "outputs": [
    {
     "name": "stdout",
     "output_type": "stream",
     "text": [
      "3 is an odd number\n",
      "4 is an even number\n"
     ]
    }
   ],
   "source": [
    "# even and odd numbers\n",
    "def even_odd(num):\n",
    "    if num % 2 == 0:\n",
    "        print(f\"{num} is an even number\")\n",
    "    else:\n",
    "        print(f\"{num} is an odd number\")\n",
    "\n",
    "even_odd(3)\n",
    "even_odd(4)"
   ]
  },
  {
   "cell_type": "code",
   "execution_count": 10,
   "metadata": {},
   "outputs": [
    {
     "name": "stdout",
     "output_type": "stream",
     "text": [
      "3\n",
      "The numbers are equal\n",
      "3\n"
     ]
    }
   ],
   "source": [
    "## return statement\n",
    "def maximum(x, y):\n",
    "    if x > y:\n",
    "        return x\n",
    "    elif x == y:\n",
    "        return 'The numbers are equal'\n",
    "    else:\n",
    "        return y\n",
    "\n",
    "print(maximum(2, 3))\n",
    "\n",
    "print(maximum(3, 3))\n",
    "\n",
    "print(maximum(3, 2))\n"
   ]
  },
  {
   "cell_type": "code",
   "execution_count": 11,
   "metadata": {},
   "outputs": [
    {
     "name": "stdout",
     "output_type": "stream",
     "text": [
      "5\n"
     ]
    }
   ],
   "source": [
    "# function with multiple parameters\n",
    "def add(a, b):\n",
    "    return a + b\n",
    "\n",
    "\n",
    "print(add(2, 3))"
   ]
  },
  {
   "cell_type": "code",
   "execution_count": 13,
   "metadata": {},
   "outputs": [
    {
     "name": "stdout",
     "output_type": "stream",
     "text": [
      "5\n",
      "6\n"
     ]
    }
   ],
   "source": [
    "# function with default arguments\n",
    "def add(a, b=3):\n",
    "    return a + b\n",
    "\n",
    "print(add(2))\n",
    "print(add(2, 4))\n"
   ]
  },
  {
   "cell_type": "code",
   "execution_count": 17,
   "metadata": {},
   "outputs": [
    {
     "name": "stdout",
     "output_type": "stream",
     "text": [
      "166\n",
      "266\n",
      "5\n"
     ]
    }
   ],
   "source": [
    "# function with variable number of arguments\n",
    "def total(initial=5, *numbers, **keywords):\n",
    "    count = initial\n",
    "    for number in numbers:\n",
    "        count += number\n",
    "    for key in keywords:\n",
    "        count += keywords[key]\n",
    "    return count\n",
    "\n",
    "print(total(10, 1, 2, 3, vegetables=50, fruits=100))\n",
    "\n",
    "print(total(10, 1, 2, 3, vegetables=50, fruits=100, meat=100))\n",
    "print(total())"
   ]
  },
  {
   "cell_type": "code",
   "execution_count": 16,
   "metadata": {},
   "outputs": [
    {
     "name": "stdout",
     "output_type": "stream",
     "text": [
      "(1, 2, 3, 4, 5)\n",
      "{'name': 'John Doe', 'age': 30}\n"
     ]
    }
   ],
   "source": [
    "# variable length arguments\n",
    "# *args and **kwargs\n",
    "def variable_args(*args, **kwargs):\n",
    "    print(args)\n",
    "    print(kwargs)\n",
    "\n",
    "variable_args(1, 2, 3, 4, 5, name=\"John Doe\", age=30)\n",
    "\n",
    "\n"
   ]
  },
  {
   "cell_type": "code",
   "execution_count": 18,
   "metadata": {},
   "outputs": [
    {
     "name": "stdout",
     "output_type": "stream",
     "text": [
      "5\n"
     ]
    }
   ],
   "source": [
    "# lambda functions\n",
    "# lambda arguments: expression\n",
    "add = lambda x, y: x + y\n",
    "print(add(2, 3))"
   ]
  },
  {
   "cell_type": "code",
   "execution_count": 20,
   "metadata": {},
   "outputs": [
    {
     "name": "stdout",
     "output_type": "stream",
     "text": [
      "name = John Doe\n",
      "age = 30\n"
     ]
    }
   ],
   "source": [
    "# keyword arguments\n",
    "def keyword_args(**kwargs):\n",
    "    for key, value in kwargs.items():\n",
    "        print(f\"{key} = {value}\")       \n",
    "\n",
    "keyword_args(name=\"John Doe\", age=30)\n"
   ]
  },
  {
   "cell_type": "code",
   "execution_count": 21,
   "metadata": {},
   "outputs": [
    {
     "name": "stdout",
     "output_type": "stream",
     "text": [
      "1\n",
      "2\n",
      "3\n",
      "name = John Doe\n",
      "age = 30\n"
     ]
    }
   ],
   "source": [
    "# args and kwargs\n",
    "def args_kwargs(*args, **kwargs):\n",
    "    for arg in args:\n",
    "        print(arg)\n",
    "    for key, value in kwargs.items():\n",
    "        print(f\"{key} = {value}\")\n",
    "\n",
    "args_kwargs(1, 2, 3, name=\"John Doe\", age=30)"
   ]
  },
  {
   "cell_type": "code",
   "execution_count": 22,
   "metadata": {},
   "outputs": [
    {
     "name": "stdout",
     "output_type": "stream",
     "text": [
      "1 2 3\n"
     ]
    }
   ],
   "source": [
    "# unpacking arguments\n",
    "def unpacking_args(a, b, c):\n",
    "    print(a, b, c)\n",
    "\n",
    "args = (1, 2, 3)\n",
    "unpacking_args(*args)\n"
   ]
  },
  {
   "cell_type": "code",
   "execution_count": 23,
   "metadata": {},
   "outputs": [
    {
     "name": "stdout",
     "output_type": "stream",
     "text": [
      "John Doe 30\n"
     ]
    }
   ],
   "source": [
    "# unpacking keyword arguments\n",
    "def unpacking_kwargs(name, age):\n",
    "    print(name, age)\n",
    "\n",
    "kwargs = {\"name\": \"John Doe\", \"age\": 30}\n",
    "unpacking_kwargs(**kwargs)"
   ]
  },
  {
   "cell_type": "code",
   "execution_count": 26,
   "metadata": {},
   "outputs": [
    {
     "name": "stdout",
     "output_type": "stream",
     "text": [
      "1 2 3\n",
      "(1, 2, 3)\n"
     ]
    }
   ],
   "source": [
    "# return multiple values\n",
    "def multiple_values():\n",
    "    return 1, 2, 3\n",
    "\n",
    "a, b, c = multiple_values()\n",
    "print(a, b, c)\n",
    "\n",
    "print(multiple_values())\n",
    "\n",
    "\n"
   ]
  },
  {
   "cell_type": "code",
   "execution_count": 7,
   "metadata": {},
   "outputs": [
    {
     "name": "stdout",
     "output_type": "stream",
     "text": [
      "32.0\n",
      "0.0\n"
     ]
    }
   ],
   "source": [
    "# write function for temperature conversion\n",
    "# celsius to fahrenheit\n",
    "def celsius_to_fahrenheit(celsius):\n",
    "    return (celsius * 9/5) + 32\n",
    "\n",
    "print(celsius_to_fahrenheit(0))\n",
    "\n",
    "# fahrenheit to celsius\n",
    "def fahrenheit_to_celsius(fahrenheit):\n",
    "    return (fahrenheit - 32) * 5/9\n",
    "\n",
    "print(fahrenheit_to_celsius(32))\n",
    "\n",
    "\n"
   ]
  },
  {
   "cell_type": "code",
   "execution_count": 13,
   "metadata": {},
   "outputs": [
    {
     "name": "stdout",
     "output_type": "stream",
     "text": [
      "Password should have at least one uppercase letter\n",
      "Password should have at least one uppercase letter\n",
      "Password is strong\n"
     ]
    }
   ],
   "source": [
    "# password strength checker function\n",
    "# password should have at least 8 characters\n",
    "# password should have at least one uppercase letter\n",
    "# password should have at least one lowercase letter\n",
    "# password should have at least one digit\n",
    "# password should have at least one special character\n",
    "def password_strength(password):\n",
    "    if len(password) < 8:\n",
    "        return \"Password should have at least 8 characters\"\n",
    "    if not any(char.isupper() for char in password):\n",
    "        return \"Password should have at least one uppercase letter\"\n",
    "    if not any(char.islower() for char in password):\n",
    "        return \"Password should have at least one lowercase letter\"\n",
    "    if not any(char.isdigit() for char in password):\n",
    "        return \"Password should have at least one digit\"\n",
    "    if not any(not char.isalnum() for char in password):\n",
    "        return \"Password should have at least one special character\"\n",
    "    return \"Password is strong\"\n",
    "\n",
    "print(password_strength(\"password\"))\n",
    "print(password_strength(\"upender#123\"))\n",
    "print(password_strength(\"Upender#123\"))\n"
   ]
  },
  {
   "cell_type": "code",
   "execution_count": 14,
   "metadata": {},
   "outputs": [
    {
     "name": "stdout",
     "output_type": "stream",
     "text": [
      "5\n"
     ]
    }
   ],
   "source": [
    "# calculate the total cost of items in shopping cart\n",
    "def total_cost(*items, **prices):\n",
    "    total = 0\n",
    "    for item in items:\n",
    "        total += prices[item]\n",
    "    return total\n",
    "\n",
    "cart = {\"apple\": 2, \"banana\": 3, \"orange\": 4}\n",
    "print(total_cost(\"apple\", \"banana\", **cart))\n",
    "\n",
    "\n",
    "\n"
   ]
  },
  {
   "cell_type": "code",
   "execution_count": 18,
   "metadata": {},
   "outputs": [
    {
     "name": "stdout",
     "output_type": "stream",
     "text": [
      "True\n"
     ]
    }
   ],
   "source": [
    "# check id a string is palindrome\n",
    "#remove spaces and convert to lowercase\n",
    "# compare the string with its reverse\n",
    "\n",
    "def is_palindrome(s):\n",
    "    s = s.replace(\" \", \"\").lower()\n",
    "    return s == s[::-1]\n",
    "\n",
    "#call the function\n",
    "print(is_palindrome(\"madam\"))\n"
   ]
  },
  {
   "cell_type": "code",
   "execution_count": 26,
   "metadata": {},
   "outputs": [
    {
     "name": "stdout",
     "output_type": "stream",
     "text": [
      "{'apple': 3, 'banana': 3, 'orange': 3}\n"
     ]
    }
   ],
   "source": [
    "# read a file and count the frequency of words\n",
    "def word_frequency(file):\n",
    "    with open(file) as f:\n",
    "        words = f.read().split() # split the words by space and store in a list \n",
    "    word_count = {} # create an empty dictionary to store the word count\n",
    "    for word in words:\n",
    "        if word in word_count:\n",
    "            word_count[word] += 1 # increment the count if the word is already in the dictionary\n",
    "        else:\n",
    "            word_count[word] = 1 # add the word to the dictionary with count 1  \n",
    "    return word_count\n",
    "\n",
    "# call the function\n",
    "print(word_frequency(\"sample.txt\"))\n",
    "\n"
   ]
  },
  {
   "cell_type": "code",
   "execution_count": 25,
   "metadata": {},
   "outputs": [],
   "source": [
    "with open(\"sample.txt\", \"w\") as file:\n",
    "    file.write(\"apple banana orange apple banana apple orange  banana orange\")"
   ]
  },
  {
   "cell_type": "code",
   "execution_count": 30,
   "metadata": {},
   "outputs": [
    {
     "name": "stdout",
     "output_type": "stream",
     "text": [
      "Email address is valid\n",
      "Email address should have @ symbol\n",
      "Email address should have at least one character before @ symbol\n",
      "Email address is valid\n"
     ]
    }
   ],
   "source": [
    "# validate email address\n",
    "# email address should have @ symbol\n",
    "# email address should have . symbol\n",
    "# email address should have at least one character before @ symbol\n",
    "# email address should have at least one character between @ and . symbols\n",
    "# email address should have at least one character after . symbol\n",
    "\n",
    "def validate_email(email):\n",
    "    if \"@\" not in email:\n",
    "        return \"Email address should have @ symbol\"\n",
    "    if \".\" not in email:\n",
    "        return \"Email address should have . symbol\"\n",
    "    if email.index(\"@\") == 0:\n",
    "        return \"Email address should have at least one character before @ symbol\"\n",
    "    if email.index(\".\") == 0:\n",
    "        return \"Email address should have at least one character between @ and . symbols\"\n",
    "    if email.index(\".\") == len(email) - 1:\n",
    "        return \"Email address should have at least one character after . symbol\"\n",
    "    return \"Email address is valid\"\n",
    "\n",
    "# call the function\n",
    "print(validate_email(\"abc@email.com\"))\n",
    "print(validate_email(\"abcemail.com\"))\n",
    "print(validate_email(\"@email.com\"))\n",
    "print(validate_email(\"abc@.com\"))"
   ]
  },
  {
   "cell_type": "code",
   "execution_count": null,
   "metadata": {},
   "outputs": [],
   "source": []
  }
 ],
 "metadata": {
  "kernelspec": {
   "display_name": "myenv",
   "language": "python",
   "name": "python3"
  },
  "language_info": {
   "codemirror_mode": {
    "name": "ipython",
    "version": 3
   },
   "file_extension": ".py",
   "mimetype": "text/x-python",
   "name": "python",
   "nbconvert_exporter": "python",
   "pygments_lexer": "ipython3",
   "version": "3.13.1"
  }
 },
 "nbformat": 4,
 "nbformat_minor": 2
}

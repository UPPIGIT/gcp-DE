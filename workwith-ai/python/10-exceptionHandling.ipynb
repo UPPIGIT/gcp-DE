{
 "cells": [
  {
   "cell_type": "code",
   "execution_count": 7,
   "metadata": {},
   "outputs": [],
   "source": [
    "try:\n",
    "    num = int(input(\"Enter a number: \"))  # User input\n",
    "    result = 10 / num  # Division\n",
    "except ZeroDivisionError:\n",
    "    print(\"❌ Error: Cannot divide by zero!\")\n",
    "except ValueError:\n",
    "    print(\"❌ Error: Invalid input! Please enter a number.\")\n"
   ]
  },
  {
   "cell_type": "code",
   "execution_count": 8,
   "metadata": {},
   "outputs": [
    {
     "name": "stdout",
     "output_type": "stream",
     "text": [
      "✅ Result: 5.0\n",
      "🎯 Execution completed.\n"
     ]
    }
   ],
   "source": [
    "try:\n",
    "    num = int(input(\"Enter a number: \"))\n",
    "    result = 10 / num\n",
    "except ZeroDivisionError:\n",
    "    print(\"❌ Cannot divide by zero!\")\n",
    "except ValueError:\n",
    "    print(\"❌ Please enter a valid number.\")\n",
    "else:\n",
    "    print(f\"✅ Result: {result}\")  # Runs if no exception occurs\n",
    "finally:\n",
    "    print(\"🎯 Execution completed.\")  # Runs always\n"
   ]
  },
  {
   "cell_type": "code",
   "execution_count": 5,
   "metadata": {},
   "outputs": [
    {
     "name": "stdout",
     "output_type": "stream",
     "text": [
      "❌ Error: File 'data_2024.csv' not found.\n"
     ]
    }
   ],
   "source": [
    "import os\n",
    "\n",
    "def process_file(filename):\n",
    "    try:\n",
    "        if not os.path.exists(filename):\n",
    "            raise FileNotFoundError(f\"File '{filename}' not found.\")\n",
    "        \n",
    "        with open(filename, \"r\") as file:\n",
    "            data = file.readlines()\n",
    "            print(f\"✅ Processing {len(data)} lines from {filename}\")\n",
    "    \n",
    "    except FileNotFoundError as e:\n",
    "        print(f\"❌ Error: {e}\")\n",
    "        # Log error instead of stopping execution\n",
    "        with open(\"error_log.txt\", \"a\") as log:\n",
    "            log.write(str(e) + \"\\n\")\n",
    "\n",
    "# Example Usage\n",
    "process_file(\"data_2024.csv\")\n"
   ]
  },
  {
   "cell_type": "code",
   "execution_count": 3,
   "metadata": {},
   "outputs": [
    {
     "name": "stdout",
     "output_type": "stream",
     "text": [
      "Collecting requests\n",
      "  Using cached requests-2.32.3-py3-none-any.whl.metadata (4.6 kB)\n",
      "Collecting charset-normalizer<4,>=2 (from requests)\n",
      "  Using cached charset_normalizer-3.4.1-cp313-cp313-win_amd64.whl.metadata (36 kB)\n",
      "Requirement already satisfied: idna<4,>=2.5 in d:\\git\\gcp-de\\workwith-ai\\python\\myenv\\lib\\site-packages (from requests) (3.10)\n",
      "Collecting urllib3<3,>=1.21.1 (from requests)\n",
      "  Using cached urllib3-2.3.0-py3-none-any.whl.metadata (6.5 kB)\n",
      "Requirement already satisfied: certifi>=2017.4.17 in d:\\git\\gcp-de\\workwith-ai\\python\\myenv\\lib\\site-packages (from requests) (2025.1.31)\n",
      "Using cached requests-2.32.3-py3-none-any.whl (64 kB)\n",
      "Using cached charset_normalizer-3.4.1-cp313-cp313-win_amd64.whl (102 kB)\n",
      "Using cached urllib3-2.3.0-py3-none-any.whl (128 kB)\n",
      "Installing collected packages: urllib3, charset-normalizer, requests\n",
      "Successfully installed charset-normalizer-3.4.1 requests-2.32.3 urllib3-2.3.0\n",
      "Note: you may need to restart the kernel to use updated packages.\n"
     ]
    },
    {
     "name": "stderr",
     "output_type": "stream",
     "text": [
      "\n",
      "[notice] A new release of pip is available: 24.3.1 -> 25.0.1\n",
      "[notice] To update, run: python.exe -m pip install --upgrade pip\n"
     ]
    }
   ],
   "source": [
    "pip install requests"
   ]
  },
  {
   "cell_type": "code",
   "execution_count": 4,
   "metadata": {},
   "outputs": [
    {
     "name": "stdout",
     "output_type": "stream",
     "text": [
      "⚠️ Attempt 1: Failed to fetch data - 401 Client Error: Unauthorized for url: https://api.weather.com/data\n",
      "⚠️ Attempt 2: Failed to fetch data - 401 Client Error: Unauthorized for url: https://api.weather.com/data\n",
      "⚠️ Attempt 3: Failed to fetch data - 401 Client Error: Unauthorized for url: https://api.weather.com/data\n",
      "❌ Could not fetch weather data. Please try again later.\n"
     ]
    }
   ],
   "source": [
    "import requests\n",
    "import time\n",
    "\n",
    "API_URL = \"https://api.weather.com/data\"\n",
    "\n",
    "def fetch_weather_data():\n",
    "    attempts = 3  # Retry mechanism\n",
    "    for attempt in range(attempts):\n",
    "        try:\n",
    "            response = requests.get(API_URL, timeout=5)\n",
    "            response.raise_for_status()  # Raise an error for HTTP errors (4xx, 5xx)\n",
    "            return response.json()  # Return JSON data\n",
    "        \n",
    "        except requests.exceptions.RequestException as e:\n",
    "            print(f\"⚠️ Attempt {attempt + 1}: Failed to fetch data - {e}\")\n",
    "            time.sleep(2)  # Wait before retrying\n",
    "\n",
    "    print(\"❌ Could not fetch weather data. Please try again later.\")\n",
    "    return None  # Return fallback\n",
    "\n",
    "# Example Usage\n",
    "weather_data = fetch_weather_data()\n",
    "if weather_data:\n",
    "    print(\"✅ Weather Data:\", weather_data)\n"
   ]
  },
  {
   "cell_type": "code",
   "execution_count": 2,
   "metadata": {},
   "outputs": [
    {
     "name": "stdout",
     "output_type": "stream",
     "text": [
      "❌ Transaction failed: Insufficient funds! Available balance: $500\n"
     ]
    }
   ],
   "source": [
    "class InsufficientFundsError(Exception):\n",
    "    \"\"\"Custom Exception for insufficient funds\"\"\"\n",
    "    pass\n",
    "\n",
    "def withdraw(balance, amount):\n",
    "    try:\n",
    "        if amount > balance:\n",
    "            raise InsufficientFundsError(f\"Insufficient funds! Available balance: ${balance}\")\n",
    "        balance -= amount\n",
    "        print(f\"✅ Withdrawal successful! Remaining balance: ${balance}\")\n",
    "    except InsufficientFundsError as e:\n",
    "        print(f\"❌ Transaction failed: {e}\")\n",
    "\n",
    "# Example Usage\n",
    "withdraw(500, 1000)  # Attempting to withdraw more than balance\n"
   ]
  },
  {
   "cell_type": "code",
   "execution_count": 1,
   "metadata": {},
   "outputs": [
    {
     "name": "stdout",
     "output_type": "stream",
     "text": [
      "✅ Record 0: 100\n",
      "✅ Record 1: 200\n",
      "⚠️ Skipping corrupt record at index 2: 'abc'\n",
      "✅ Record 3: 400\n",
      "⚠️ Skipping corrupt record at index 4: 'xyz'\n"
     ]
    }
   ],
   "source": [
    "def process_data(data):\n",
    "    for index, record in enumerate(data):\n",
    "        try:\n",
    "            value = int(record)  # Convert string to integer\n",
    "            print(f\"✅ Record {index}: {value}\")\n",
    "        except ValueError:\n",
    "            print(f\"⚠️ Skipping corrupt record at index {index}: '{record}'\")\n",
    "\n",
    "# Example Data with Corrupt Entries\n",
    "data_list = [\"100\", \"200\", \"abc\", \"400\", \"xyz\"]\n",
    "process_data(data_list)\n"
   ]
  }
 ],
 "metadata": {
  "kernelspec": {
   "display_name": "myenv",
   "language": "python",
   "name": "python3"
  },
  "language_info": {
   "codemirror_mode": {
    "name": "ipython",
    "version": 3
   },
   "file_extension": ".py",
   "mimetype": "text/x-python",
   "name": "python",
   "nbconvert_exporter": "python",
   "pygments_lexer": "ipython3",
   "version": "3.13.1"
  }
 },
 "nbformat": 4,
 "nbformat_minor": 2
}

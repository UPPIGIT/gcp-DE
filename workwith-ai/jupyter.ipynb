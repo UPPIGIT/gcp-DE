{
 "cells": [
  {
   "cell_type": "code",
   "execution_count": 1,
   "metadata": {},
   "outputs": [
    {
     "name": "stdout",
     "output_type": "stream",
     "text": [
      "wel come to gen AI experments\n"
     ]
    }
   ],
   "source": [
    "print(\"wel come to gen AI experments\")"
   ]
  },
  {
   "cell_type": "code",
   "execution_count": 1,
   "metadata": {},
   "outputs": [
    {
     "name": "stdout",
     "output_type": "stream",
     "text": [
      "Item: Apple, Price: 1.5\n",
      "Item: Banana, Price: 2.0\n",
      "Total Price: 3.5\n",
      "Item: Banana, Price: 2.0\n",
      "Total Price: 2.0\n"
     ]
    }
   ],
   "source": [
    "class Cart:\n",
    "    def __init__(self):\n",
    "        self.items = []\n",
    "\n",
    "    def add_item(self, item, price):\n",
    "        self.items.append({'item': item, 'price': price})\n",
    "\n",
    "    def remove_item(self, item):\n",
    "        self.items = [i for i in self.items if i['item'] != item]\n",
    "\n",
    "    def total_price(self):\n",
    "        return sum(item['price'] for item in self.items)\n",
    "\n",
    "    def show_items(self):\n",
    "        for item in self.items:\n",
    "            print(f\"Item: {item['item']}, Price: {item['price']}\")\n",
    "\n",
    "# Example usage\n",
    "cart = Cart()\n",
    "cart.add_item('Apple', 1.5)\n",
    "cart.add_item('Banana', 2.0)\n",
    "cart.show_items()\n",
    "print(f\"Total Price: {cart.total_price()}\")\n",
    "cart.remove_item('Apple')\n",
    "cart.show_items()\n",
    "print(f\"Total Price: {cart.total_price()}\")"
   ]
  }
 ],
 "metadata": {
  "kernelspec": {
   "display_name": "Python 3",
   "language": "python",
   "name": "python3"
  },
  "language_info": {
   "codemirror_mode": {
    "name": "ipython",
    "version": 3
   },
   "file_extension": ".py",
   "mimetype": "text/x-python",
   "name": "python",
   "nbconvert_exporter": "python",
   "pygments_lexer": "ipython3",
   "version": "3.13.1"
  }
 },
 "nbformat": 4,
 "nbformat_minor": 2
}
